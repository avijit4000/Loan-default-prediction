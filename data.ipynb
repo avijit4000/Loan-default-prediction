{
 "cells": [
  {
   "cell_type": "code",
   "execution_count": 1,
   "metadata": {
    "collapsed": true,
    "pycharm": {
     "name": "#%%\n"
    }
   },
   "outputs": [],
   "source": [
    "import pandas as pd\n",
    "from sklearn.cluster import DBSCAN\n",
    "from sklearn.preprocessing import StandardScaler\n",
    "import numpy as np\n",
    "import matplotlib.pyplot as plt\n",
    "from sklearn.model_selection import train_test_split\n",
    "import warnings\n",
    "warnings.filterwarnings('ignore')\n",
    "\n",
    "from sklearn.tree import DecisionTreeClassifier\n",
    "from sklearn.metrics import accuracy_score,confusion_matrix,classification_report\n",
    "from sklearn.model_selection import GridSearchCV\n",
    "from sklearn.model_selection import KFold, cross_val_score"
   ]
  },
  {
   "cell_type": "code",
   "execution_count": 2,
   "outputs": [],
   "source": [
    "result=pd.read_csv(\"result.csv\")"
   ],
   "metadata": {
    "collapsed": false,
    "pycharm": {
     "name": "#%%\n"
    }
   }
  },
  {
   "cell_type": "code",
   "execution_count": 3,
   "outputs": [
    {
     "data": {
      "text/plain": "        Unnamed: 0  payFrequency    apr  originated  nPaidOff  approved  \\\n0                1             0  199.0           1       0.0         1   \n1                2             0  199.0           1       0.0         1   \n2                3             0  199.0           1       0.0         1   \n3                4             0  199.0           1       0.0         1   \n4                5             0  199.0           1       0.0         1   \n...            ...           ...    ...         ...       ...       ...   \n525032     1220893             1  645.0           1       0.0         1   \n525033     1220894             1  645.0           1       0.0         1   \n525034     1220895             1  645.0           1       0.0         1   \n525035     1220896             1  645.0           1       0.0         1   \n525036     1220897             1  645.0           1       0.0         1   \n\n        isFunded  loanStatus  loanAmount  originallyScheduledPaymentAmount  \\\n0            1.0           1      3000.0                           6395.19   \n1            1.0           1      3000.0                           6395.19   \n2            1.0           1      3000.0                           6395.19   \n3            1.0           1      3000.0                           6395.19   \n4            1.0           1      3000.0                           6395.19   \n...          ...         ...         ...                               ...   \n525032       1.0           1       300.0                           1034.38   \n525033       1.0           1       300.0                           1034.38   \n525034       1.0           1       300.0                           1034.38   \n525035       1.0           1       300.0                           1034.38   \n525036       1.0           1       300.0                           1034.38   \n\n        ...  leadCost  Application_Year  Application_Month  installmentIndex  \\\n0       ...       0.0              2016                  1               1.0   \n1       ...       0.0              2016                  1               2.0   \n2       ...       0.0              2016                  1               3.0   \n3       ...       0.0              2016                  1               4.0   \n4       ...       0.0              2016                  1               5.0   \n...     ...       ...               ...                ...               ...   \n525032  ...       6.0              2016                 12              23.0   \n525033  ...       6.0              2016                 12              24.0   \n525034  ...       6.0              2016                 12              25.0   \n525035  ...       6.0              2016                 12              26.0   \n525036  ...       6.0              2016                 12              27.0   \n\n        isCollection  principal    fees  paymentAmount  paymentStatus  hasCF  \n0                  0     151.98  114.49         266.47              1    1.0  \n1                  0      49.08  217.39         266.47              1    1.0  \n2                  0      52.83  213.64         266.47              1    1.0  \n3                  0      56.86  209.61         266.47              1    1.0  \n4                  0      61.20  205.27         266.47              1    1.0  \n...              ...        ...     ...            ...            ...    ...  \n525032             0      21.85   17.38          39.23              0    1.0  \n525033             0      24.56   14.67          39.23              0    1.0  \n525034             0      27.59   11.64          39.23              0    1.0  \n525035             0      31.01    8.22          39.23              0    1.0  \n525036             0      35.46    4.39          39.85              0    1.0  \n\n[525037 rows x 22 columns]",
      "text/html": "<div>\n<style scoped>\n    .dataframe tbody tr th:only-of-type {\n        vertical-align: middle;\n    }\n\n    .dataframe tbody tr th {\n        vertical-align: top;\n    }\n\n    .dataframe thead th {\n        text-align: right;\n    }\n</style>\n<table border=\"1\" class=\"dataframe\">\n  <thead>\n    <tr style=\"text-align: right;\">\n      <th></th>\n      <th>Unnamed: 0</th>\n      <th>payFrequency</th>\n      <th>apr</th>\n      <th>originated</th>\n      <th>nPaidOff</th>\n      <th>approved</th>\n      <th>isFunded</th>\n      <th>loanStatus</th>\n      <th>loanAmount</th>\n      <th>originallyScheduledPaymentAmount</th>\n      <th>...</th>\n      <th>leadCost</th>\n      <th>Application_Year</th>\n      <th>Application_Month</th>\n      <th>installmentIndex</th>\n      <th>isCollection</th>\n      <th>principal</th>\n      <th>fees</th>\n      <th>paymentAmount</th>\n      <th>paymentStatus</th>\n      <th>hasCF</th>\n    </tr>\n  </thead>\n  <tbody>\n    <tr>\n      <th>0</th>\n      <td>1</td>\n      <td>0</td>\n      <td>199.0</td>\n      <td>1</td>\n      <td>0.0</td>\n      <td>1</td>\n      <td>1.0</td>\n      <td>1</td>\n      <td>3000.0</td>\n      <td>6395.19</td>\n      <td>...</td>\n      <td>0.0</td>\n      <td>2016</td>\n      <td>1</td>\n      <td>1.0</td>\n      <td>0</td>\n      <td>151.98</td>\n      <td>114.49</td>\n      <td>266.47</td>\n      <td>1</td>\n      <td>1.0</td>\n    </tr>\n    <tr>\n      <th>1</th>\n      <td>2</td>\n      <td>0</td>\n      <td>199.0</td>\n      <td>1</td>\n      <td>0.0</td>\n      <td>1</td>\n      <td>1.0</td>\n      <td>1</td>\n      <td>3000.0</td>\n      <td>6395.19</td>\n      <td>...</td>\n      <td>0.0</td>\n      <td>2016</td>\n      <td>1</td>\n      <td>2.0</td>\n      <td>0</td>\n      <td>49.08</td>\n      <td>217.39</td>\n      <td>266.47</td>\n      <td>1</td>\n      <td>1.0</td>\n    </tr>\n    <tr>\n      <th>2</th>\n      <td>3</td>\n      <td>0</td>\n      <td>199.0</td>\n      <td>1</td>\n      <td>0.0</td>\n      <td>1</td>\n      <td>1.0</td>\n      <td>1</td>\n      <td>3000.0</td>\n      <td>6395.19</td>\n      <td>...</td>\n      <td>0.0</td>\n      <td>2016</td>\n      <td>1</td>\n      <td>3.0</td>\n      <td>0</td>\n      <td>52.83</td>\n      <td>213.64</td>\n      <td>266.47</td>\n      <td>1</td>\n      <td>1.0</td>\n    </tr>\n    <tr>\n      <th>3</th>\n      <td>4</td>\n      <td>0</td>\n      <td>199.0</td>\n      <td>1</td>\n      <td>0.0</td>\n      <td>1</td>\n      <td>1.0</td>\n      <td>1</td>\n      <td>3000.0</td>\n      <td>6395.19</td>\n      <td>...</td>\n      <td>0.0</td>\n      <td>2016</td>\n      <td>1</td>\n      <td>4.0</td>\n      <td>0</td>\n      <td>56.86</td>\n      <td>209.61</td>\n      <td>266.47</td>\n      <td>1</td>\n      <td>1.0</td>\n    </tr>\n    <tr>\n      <th>4</th>\n      <td>5</td>\n      <td>0</td>\n      <td>199.0</td>\n      <td>1</td>\n      <td>0.0</td>\n      <td>1</td>\n      <td>1.0</td>\n      <td>1</td>\n      <td>3000.0</td>\n      <td>6395.19</td>\n      <td>...</td>\n      <td>0.0</td>\n      <td>2016</td>\n      <td>1</td>\n      <td>5.0</td>\n      <td>0</td>\n      <td>61.20</td>\n      <td>205.27</td>\n      <td>266.47</td>\n      <td>1</td>\n      <td>1.0</td>\n    </tr>\n    <tr>\n      <th>...</th>\n      <td>...</td>\n      <td>...</td>\n      <td>...</td>\n      <td>...</td>\n      <td>...</td>\n      <td>...</td>\n      <td>...</td>\n      <td>...</td>\n      <td>...</td>\n      <td>...</td>\n      <td>...</td>\n      <td>...</td>\n      <td>...</td>\n      <td>...</td>\n      <td>...</td>\n      <td>...</td>\n      <td>...</td>\n      <td>...</td>\n      <td>...</td>\n      <td>...</td>\n      <td>...</td>\n    </tr>\n    <tr>\n      <th>525032</th>\n      <td>1220893</td>\n      <td>1</td>\n      <td>645.0</td>\n      <td>1</td>\n      <td>0.0</td>\n      <td>1</td>\n      <td>1.0</td>\n      <td>1</td>\n      <td>300.0</td>\n      <td>1034.38</td>\n      <td>...</td>\n      <td>6.0</td>\n      <td>2016</td>\n      <td>12</td>\n      <td>23.0</td>\n      <td>0</td>\n      <td>21.85</td>\n      <td>17.38</td>\n      <td>39.23</td>\n      <td>0</td>\n      <td>1.0</td>\n    </tr>\n    <tr>\n      <th>525033</th>\n      <td>1220894</td>\n      <td>1</td>\n      <td>645.0</td>\n      <td>1</td>\n      <td>0.0</td>\n      <td>1</td>\n      <td>1.0</td>\n      <td>1</td>\n      <td>300.0</td>\n      <td>1034.38</td>\n      <td>...</td>\n      <td>6.0</td>\n      <td>2016</td>\n      <td>12</td>\n      <td>24.0</td>\n      <td>0</td>\n      <td>24.56</td>\n      <td>14.67</td>\n      <td>39.23</td>\n      <td>0</td>\n      <td>1.0</td>\n    </tr>\n    <tr>\n      <th>525034</th>\n      <td>1220895</td>\n      <td>1</td>\n      <td>645.0</td>\n      <td>1</td>\n      <td>0.0</td>\n      <td>1</td>\n      <td>1.0</td>\n      <td>1</td>\n      <td>300.0</td>\n      <td>1034.38</td>\n      <td>...</td>\n      <td>6.0</td>\n      <td>2016</td>\n      <td>12</td>\n      <td>25.0</td>\n      <td>0</td>\n      <td>27.59</td>\n      <td>11.64</td>\n      <td>39.23</td>\n      <td>0</td>\n      <td>1.0</td>\n    </tr>\n    <tr>\n      <th>525035</th>\n      <td>1220896</td>\n      <td>1</td>\n      <td>645.0</td>\n      <td>1</td>\n      <td>0.0</td>\n      <td>1</td>\n      <td>1.0</td>\n      <td>1</td>\n      <td>300.0</td>\n      <td>1034.38</td>\n      <td>...</td>\n      <td>6.0</td>\n      <td>2016</td>\n      <td>12</td>\n      <td>26.0</td>\n      <td>0</td>\n      <td>31.01</td>\n      <td>8.22</td>\n      <td>39.23</td>\n      <td>0</td>\n      <td>1.0</td>\n    </tr>\n    <tr>\n      <th>525036</th>\n      <td>1220897</td>\n      <td>1</td>\n      <td>645.0</td>\n      <td>1</td>\n      <td>0.0</td>\n      <td>1</td>\n      <td>1.0</td>\n      <td>1</td>\n      <td>300.0</td>\n      <td>1034.38</td>\n      <td>...</td>\n      <td>6.0</td>\n      <td>2016</td>\n      <td>12</td>\n      <td>27.0</td>\n      <td>0</td>\n      <td>35.46</td>\n      <td>4.39</td>\n      <td>39.85</td>\n      <td>0</td>\n      <td>1.0</td>\n    </tr>\n  </tbody>\n</table>\n<p>525037 rows × 22 columns</p>\n</div>"
     },
     "execution_count": 3,
     "metadata": {},
     "output_type": "execute_result"
    }
   ],
   "source": [
    "result"
   ],
   "metadata": {
    "collapsed": false,
    "pycharm": {
     "name": "#%%\n"
    }
   }
  },
  {
   "cell_type": "code",
   "execution_count": 28,
   "outputs": [],
   "source": [
    "result.drop(\"approved\",axis=1,inplace=True)\n",
    "result.drop(\"originated\",axis=1,inplace=True)"
   ],
   "metadata": {
    "collapsed": false,
    "pycharm": {
     "name": "#%%\n"
    }
   }
  },
  {
   "cell_type": "code",
   "execution_count": null,
   "outputs": [],
   "source": [],
   "metadata": {
    "collapsed": false,
    "pycharm": {
     "name": "#%%\n"
    }
   }
  },
  {
   "cell_type": "code",
   "execution_count": null,
   "outputs": [],
   "source": [],
   "metadata": {
    "collapsed": false,
    "pycharm": {
     "name": "#%%\n"
    }
   }
  },
  {
   "cell_type": "code",
   "execution_count": null,
   "outputs": [],
   "source": [],
   "metadata": {
    "collapsed": false,
    "pycharm": {
     "name": "#%%\n"
    }
   }
  },
  {
   "cell_type": "code",
   "execution_count": null,
   "outputs": [],
   "source": [],
   "metadata": {
    "collapsed": false,
    "pycharm": {
     "name": "#%%\n"
    }
   }
  },
  {
   "cell_type": "code",
   "execution_count": null,
   "outputs": [],
   "source": [],
   "metadata": {
    "collapsed": false,
    "pycharm": {
     "name": "#%%\n"
    }
   }
  },
  {
   "cell_type": "code",
   "execution_count": 29,
   "outputs": [],
   "source": [
    "result_1=result[result[\"isFunded\"]==1]"
   ],
   "metadata": {
    "collapsed": false,
    "pycharm": {
     "name": "#%%\n"
    }
   }
  },
  {
   "cell_type": "code",
   "execution_count": 30,
   "outputs": [],
   "source": [
    "X = result.drop('isFunded',axis=1)\n",
    "y = result[['isFunded']]"
   ],
   "metadata": {
    "collapsed": false,
    "pycharm": {
     "name": "#%%\n"
    }
   }
  },
  {
   "cell_type": "code",
   "execution_count": 31,
   "outputs": [],
   "source": [
    "X_train,X_test,y_train,y_test = train_test_split(X,y,test_size=0.1,random_state=123)"
   ],
   "metadata": {
    "collapsed": false,
    "pycharm": {
     "name": "#%%\n"
    }
   }
  },
  {
   "cell_type": "code",
   "execution_count": 32,
   "outputs": [],
   "source": [
    "test=pd.concat([X_test, y_test], axis=1)"
   ],
   "metadata": {
    "collapsed": false,
    "pycharm": {
     "name": "#%%\n"
    }
   }
  },
  {
   "cell_type": "code",
   "execution_count": 33,
   "outputs": [],
   "source": [
    "result_0=result[result[\"isFunded\"]==0]"
   ],
   "metadata": {
    "collapsed": false,
    "pycharm": {
     "name": "#%%\n"
    }
   }
  },
  {
   "cell_type": "code",
   "execution_count": 34,
   "outputs": [
    {
     "data": {
      "text/plain": "        Unnamed: 0  payFrequency    apr  nPaidOff  isFunded  loanStatus  \\\n593           1408             0  680.0       0.0       0.0           6   \n594           1409             0  680.0       0.0       0.0           6   \n595           1410             0  680.0       0.0       0.0           6   \n596           1411             0  680.0       0.0       0.0           6   \n597           1412             0  680.0       0.0       0.0           6   \n...            ...           ...    ...       ...       ...         ...   \n524476     1219499             0  645.0       0.0       0.0           5   \n524477     1219500             0  645.0       0.0       0.0           5   \n524478     1219501             0  645.0       0.0       0.0           5   \n524479     1219502             0  645.0       0.0       0.0           5   \n524480     1219503             0  645.0       0.0       0.0           5   \n\n        loanAmount  originallyScheduledPaymentAmount  state  leadType  \\\n593          500.0                           1593.68      3         1   \n594          500.0                           1593.68      3         1   \n595          500.0                           1593.68      3         1   \n596          500.0                           1593.68      3         1   \n597          500.0                           1593.68      3         1   \n...            ...                               ...    ...       ...   \n524476       400.0                           1286.15     13         1   \n524477       400.0                           1286.15     13         1   \n524478       400.0                           1286.15     13         1   \n524479       400.0                           1286.15     13         1   \n524480       400.0                           1286.15     13         1   \n\n        leadCost  Application_Year  Application_Month  installmentIndex  \\\n593         75.0              2015                  8               1.0   \n594         75.0              2015                  8               2.0   \n595         75.0              2015                  8               3.0   \n596         75.0              2015                  8               4.0   \n597         75.0              2015                  8               5.0   \n...          ...               ...                ...               ...   \n524476       6.0              2017                  1               9.0   \n524477       6.0              2017                  1              10.0   \n524478       6.0              2017                  1              11.0   \n524479       6.0              2017                  1              12.0   \n524480       6.0              2017                  1              13.0   \n\n        isCollection  principal    fees  paymentAmount  paymentStatus  hasCF  \n593                0     500.00    0.00         500.00              1    1.0  \n594                0      30.34  102.47         132.81              0    1.0  \n595                0      10.31  122.50         132.81              0    1.0  \n596                0      13.00  119.81         132.81              0    1.0  \n597                0      16.39  116.42         132.81              0    1.0  \n...              ...        ...     ...            ...            ...    ...  \n524476             0      32.77   66.17          98.94              0    1.0  \n524477             0      40.87   58.07          98.94              0    1.0  \n524478             0      50.98   47.96          98.94              0    1.0  \n524479             0      63.60   35.34          98.94              0    1.0  \n524480             0      79.26   19.61          98.87              0    1.0  \n\n[16685 rows x 20 columns]",
      "text/html": "<div>\n<style scoped>\n    .dataframe tbody tr th:only-of-type {\n        vertical-align: middle;\n    }\n\n    .dataframe tbody tr th {\n        vertical-align: top;\n    }\n\n    .dataframe thead th {\n        text-align: right;\n    }\n</style>\n<table border=\"1\" class=\"dataframe\">\n  <thead>\n    <tr style=\"text-align: right;\">\n      <th></th>\n      <th>Unnamed: 0</th>\n      <th>payFrequency</th>\n      <th>apr</th>\n      <th>nPaidOff</th>\n      <th>isFunded</th>\n      <th>loanStatus</th>\n      <th>loanAmount</th>\n      <th>originallyScheduledPaymentAmount</th>\n      <th>state</th>\n      <th>leadType</th>\n      <th>leadCost</th>\n      <th>Application_Year</th>\n      <th>Application_Month</th>\n      <th>installmentIndex</th>\n      <th>isCollection</th>\n      <th>principal</th>\n      <th>fees</th>\n      <th>paymentAmount</th>\n      <th>paymentStatus</th>\n      <th>hasCF</th>\n    </tr>\n  </thead>\n  <tbody>\n    <tr>\n      <th>593</th>\n      <td>1408</td>\n      <td>0</td>\n      <td>680.0</td>\n      <td>0.0</td>\n      <td>0.0</td>\n      <td>6</td>\n      <td>500.0</td>\n      <td>1593.68</td>\n      <td>3</td>\n      <td>1</td>\n      <td>75.0</td>\n      <td>2015</td>\n      <td>8</td>\n      <td>1.0</td>\n      <td>0</td>\n      <td>500.00</td>\n      <td>0.00</td>\n      <td>500.00</td>\n      <td>1</td>\n      <td>1.0</td>\n    </tr>\n    <tr>\n      <th>594</th>\n      <td>1409</td>\n      <td>0</td>\n      <td>680.0</td>\n      <td>0.0</td>\n      <td>0.0</td>\n      <td>6</td>\n      <td>500.0</td>\n      <td>1593.68</td>\n      <td>3</td>\n      <td>1</td>\n      <td>75.0</td>\n      <td>2015</td>\n      <td>8</td>\n      <td>2.0</td>\n      <td>0</td>\n      <td>30.34</td>\n      <td>102.47</td>\n      <td>132.81</td>\n      <td>0</td>\n      <td>1.0</td>\n    </tr>\n    <tr>\n      <th>595</th>\n      <td>1410</td>\n      <td>0</td>\n      <td>680.0</td>\n      <td>0.0</td>\n      <td>0.0</td>\n      <td>6</td>\n      <td>500.0</td>\n      <td>1593.68</td>\n      <td>3</td>\n      <td>1</td>\n      <td>75.0</td>\n      <td>2015</td>\n      <td>8</td>\n      <td>3.0</td>\n      <td>0</td>\n      <td>10.31</td>\n      <td>122.50</td>\n      <td>132.81</td>\n      <td>0</td>\n      <td>1.0</td>\n    </tr>\n    <tr>\n      <th>596</th>\n      <td>1411</td>\n      <td>0</td>\n      <td>680.0</td>\n      <td>0.0</td>\n      <td>0.0</td>\n      <td>6</td>\n      <td>500.0</td>\n      <td>1593.68</td>\n      <td>3</td>\n      <td>1</td>\n      <td>75.0</td>\n      <td>2015</td>\n      <td>8</td>\n      <td>4.0</td>\n      <td>0</td>\n      <td>13.00</td>\n      <td>119.81</td>\n      <td>132.81</td>\n      <td>0</td>\n      <td>1.0</td>\n    </tr>\n    <tr>\n      <th>597</th>\n      <td>1412</td>\n      <td>0</td>\n      <td>680.0</td>\n      <td>0.0</td>\n      <td>0.0</td>\n      <td>6</td>\n      <td>500.0</td>\n      <td>1593.68</td>\n      <td>3</td>\n      <td>1</td>\n      <td>75.0</td>\n      <td>2015</td>\n      <td>8</td>\n      <td>5.0</td>\n      <td>0</td>\n      <td>16.39</td>\n      <td>116.42</td>\n      <td>132.81</td>\n      <td>0</td>\n      <td>1.0</td>\n    </tr>\n    <tr>\n      <th>...</th>\n      <td>...</td>\n      <td>...</td>\n      <td>...</td>\n      <td>...</td>\n      <td>...</td>\n      <td>...</td>\n      <td>...</td>\n      <td>...</td>\n      <td>...</td>\n      <td>...</td>\n      <td>...</td>\n      <td>...</td>\n      <td>...</td>\n      <td>...</td>\n      <td>...</td>\n      <td>...</td>\n      <td>...</td>\n      <td>...</td>\n      <td>...</td>\n      <td>...</td>\n    </tr>\n    <tr>\n      <th>524476</th>\n      <td>1219499</td>\n      <td>0</td>\n      <td>645.0</td>\n      <td>0.0</td>\n      <td>0.0</td>\n      <td>5</td>\n      <td>400.0</td>\n      <td>1286.15</td>\n      <td>13</td>\n      <td>1</td>\n      <td>6.0</td>\n      <td>2017</td>\n      <td>1</td>\n      <td>9.0</td>\n      <td>0</td>\n      <td>32.77</td>\n      <td>66.17</td>\n      <td>98.94</td>\n      <td>0</td>\n      <td>1.0</td>\n    </tr>\n    <tr>\n      <th>524477</th>\n      <td>1219500</td>\n      <td>0</td>\n      <td>645.0</td>\n      <td>0.0</td>\n      <td>0.0</td>\n      <td>5</td>\n      <td>400.0</td>\n      <td>1286.15</td>\n      <td>13</td>\n      <td>1</td>\n      <td>6.0</td>\n      <td>2017</td>\n      <td>1</td>\n      <td>10.0</td>\n      <td>0</td>\n      <td>40.87</td>\n      <td>58.07</td>\n      <td>98.94</td>\n      <td>0</td>\n      <td>1.0</td>\n    </tr>\n    <tr>\n      <th>524478</th>\n      <td>1219501</td>\n      <td>0</td>\n      <td>645.0</td>\n      <td>0.0</td>\n      <td>0.0</td>\n      <td>5</td>\n      <td>400.0</td>\n      <td>1286.15</td>\n      <td>13</td>\n      <td>1</td>\n      <td>6.0</td>\n      <td>2017</td>\n      <td>1</td>\n      <td>11.0</td>\n      <td>0</td>\n      <td>50.98</td>\n      <td>47.96</td>\n      <td>98.94</td>\n      <td>0</td>\n      <td>1.0</td>\n    </tr>\n    <tr>\n      <th>524479</th>\n      <td>1219502</td>\n      <td>0</td>\n      <td>645.0</td>\n      <td>0.0</td>\n      <td>0.0</td>\n      <td>5</td>\n      <td>400.0</td>\n      <td>1286.15</td>\n      <td>13</td>\n      <td>1</td>\n      <td>6.0</td>\n      <td>2017</td>\n      <td>1</td>\n      <td>12.0</td>\n      <td>0</td>\n      <td>63.60</td>\n      <td>35.34</td>\n      <td>98.94</td>\n      <td>0</td>\n      <td>1.0</td>\n    </tr>\n    <tr>\n      <th>524480</th>\n      <td>1219503</td>\n      <td>0</td>\n      <td>645.0</td>\n      <td>0.0</td>\n      <td>0.0</td>\n      <td>5</td>\n      <td>400.0</td>\n      <td>1286.15</td>\n      <td>13</td>\n      <td>1</td>\n      <td>6.0</td>\n      <td>2017</td>\n      <td>1</td>\n      <td>13.0</td>\n      <td>0</td>\n      <td>79.26</td>\n      <td>19.61</td>\n      <td>98.87</td>\n      <td>0</td>\n      <td>1.0</td>\n    </tr>\n  </tbody>\n</table>\n<p>16685 rows × 20 columns</p>\n</div>"
     },
     "execution_count": 34,
     "metadata": {},
     "output_type": "execute_result"
    }
   ],
   "source": [
    "result_0"
   ],
   "metadata": {
    "collapsed": false,
    "pycharm": {
     "name": "#%%\n"
    }
   }
  },
  {
   "cell_type": "code",
   "execution_count": 35,
   "outputs": [],
   "source": [
    "final=pd.concat([result_0, test], axis=0)"
   ],
   "metadata": {
    "collapsed": false,
    "pycharm": {
     "name": "#%%\n"
    }
   }
  },
  {
   "cell_type": "code",
   "execution_count": 36,
   "outputs": [],
   "source": [
    "final.to_csv(\"new_cl_result.csv\")"
   ],
   "metadata": {
    "collapsed": false,
    "pycharm": {
     "name": "#%%\n"
    }
   }
  },
  {
   "cell_type": "code",
   "execution_count": 37,
   "outputs": [
    {
     "data": {
      "text/plain": "Unnamed: 0                          0\npayFrequency                        0\napr                                 0\nnPaidOff                            0\nisFunded                            0\nloanStatus                          0\nloanAmount                          0\noriginallyScheduledPaymentAmount    0\nstate                               0\nleadType                            0\nleadCost                            0\nApplication_Year                    0\nApplication_Month                   0\ninstallmentIndex                    0\nisCollection                        0\nprincipal                           0\nfees                                0\npaymentAmount                       0\npaymentStatus                       0\nhasCF                               0\ndtype: int64"
     },
     "execution_count": 37,
     "metadata": {},
     "output_type": "execute_result"
    }
   ],
   "source": [
    "final.isna().sum()"
   ],
   "metadata": {
    "collapsed": false,
    "pycharm": {
     "name": "#%%\n"
    }
   }
  },
  {
   "cell_type": "code",
   "execution_count": null,
   "outputs": [],
   "source": [
    "payment=pd.read_csv(\"payment.csv\")"
   ],
   "metadata": {
    "collapsed": false,
    "pycharm": {
     "name": "#%%\n"
    }
   }
  },
  {
   "cell_type": "code",
   "execution_count": 38,
   "outputs": [],
   "source": [
    "loan=pd.read_csv(\"loan.csv\")"
   ],
   "metadata": {
    "collapsed": false,
    "pycharm": {
     "name": "#%%\n"
    }
   }
  },
  {
   "cell_type": "code",
   "execution_count": 41,
   "outputs": [],
   "source": [
    "loan.drop(\"isFunded\",axis=1,inplace=True)"
   ],
   "metadata": {
    "collapsed": false,
    "pycharm": {
     "name": "#%%\n"
    }
   }
  },
  {
   "cell_type": "code",
   "execution_count": 45,
   "outputs": [],
   "source": [
    "loan.rename(columns={\"hasCF\":\"isFunded\"},inplace=True)"
   ],
   "metadata": {
    "collapsed": false,
    "pycharm": {
     "name": "#%%\n"
    }
   }
  },
  {
   "cell_type": "code",
   "execution_count": 47,
   "outputs": [],
   "source": [
    "loan.to_csv(\"payment.csv\")"
   ],
   "metadata": {
    "collapsed": false,
    "pycharm": {
     "name": "#%%\n"
    }
   }
  },
  {
   "cell_type": "code",
   "execution_count": 49,
   "outputs": [],
   "source": [
    "df=pd.read_csv(r\"D:\\Pyn\\online learning\\NURAN_DATA\\FSDS_September\\TEST_WORK\\STOCKS\\DATA ANALYSIS\\DS Assessment\\result.csv\")"
   ],
   "metadata": {
    "collapsed": false,
    "pycharm": {
     "name": "#%%\n"
    }
   }
  },
  {
   "cell_type": "code",
   "execution_count": 51,
   "outputs": [],
   "source": [
    "df.drop(\"Unnamed: 0\",axis=1,inplace=True)"
   ],
   "metadata": {
    "collapsed": false,
    "pycharm": {
     "name": "#%%\n"
    }
   }
  },
  {
   "cell_type": "code",
   "execution_count": 53,
   "outputs": [],
   "source": [
    "df.drop(\"isFunded\",axis=1,inplace=True)"
   ],
   "metadata": {
    "collapsed": false,
    "pycharm": {
     "name": "#%%\n"
    }
   }
  },
  {
   "cell_type": "code",
   "execution_count": 55,
   "outputs": [],
   "source": [
    "df.rename(columns={\"hasCF\":\"isFunded\"},inplace=True)"
   ],
   "metadata": {
    "collapsed": false,
    "pycharm": {
     "name": "#%%\n"
    }
   }
  },
  {
   "cell_type": "code",
   "execution_count": 56,
   "outputs": [
    {
     "data": {
      "text/plain": "payFrequency                          int64\napr                                 float64\noriginated                            int64\nnPaidOff                            float64\napproved                              int64\nloanStatus                            int64\nloanAmount                          float64\noriginallyScheduledPaymentAmount    float64\nstate                                 int64\nleadType                              int64\nleadCost                            float64\nApplication_Year                      int64\nApplication_Month                     int64\ninstallmentIndex                    float64\nisCollection                          int64\nprincipal                           float64\nfees                                float64\npaymentAmount                       float64\npaymentStatus                         int64\nisFunded                            float64\ndtype: object"
     },
     "execution_count": 56,
     "metadata": {},
     "output_type": "execute_result"
    }
   ],
   "source": [
    "df.dtypes"
   ],
   "metadata": {
    "collapsed": false,
    "pycharm": {
     "name": "#%%\n"
    }
   }
  },
  {
   "cell_type": "code",
   "execution_count": 57,
   "outputs": [
    {
     "data": {
      "text/plain": "payFrequency                        0\napr                                 0\noriginated                          0\nnPaidOff                            0\napproved                            0\nloanStatus                          0\nloanAmount                          0\noriginallyScheduledPaymentAmount    0\nstate                               0\nleadType                            0\nleadCost                            0\nApplication_Year                    0\nApplication_Month                   0\ninstallmentIndex                    0\nisCollection                        0\nprincipal                           0\nfees                                0\npaymentAmount                       0\npaymentStatus                       0\nisFunded                            0\ndtype: int64"
     },
     "execution_count": 57,
     "metadata": {},
     "output_type": "execute_result"
    }
   ],
   "source": [
    "df.isna().sum()"
   ],
   "metadata": {
    "collapsed": false,
    "pycharm": {
     "name": "#%%\n"
    }
   }
  },
  {
   "cell_type": "code",
   "execution_count": 58,
   "outputs": [],
   "source": [
    "df.to_csv(\"new_final.csv\",index=False)"
   ],
   "metadata": {
    "collapsed": false,
    "pycharm": {
     "name": "#%%\n"
    }
   }
  },
  {
   "cell_type": "code",
   "execution_count": null,
   "outputs": [],
   "source": [],
   "metadata": {
    "collapsed": false,
    "pycharm": {
     "name": "#%%\n"
    }
   }
  }
 ],
 "metadata": {
  "kernelspec": {
   "display_name": "Python 3",
   "language": "python",
   "name": "python3"
  },
  "language_info": {
   "codemirror_mode": {
    "name": "ipython",
    "version": 2
   },
   "file_extension": ".py",
   "mimetype": "text/x-python",
   "name": "python",
   "nbconvert_exporter": "python",
   "pygments_lexer": "ipython2",
   "version": "2.7.6"
  }
 },
 "nbformat": 4,
 "nbformat_minor": 0
}