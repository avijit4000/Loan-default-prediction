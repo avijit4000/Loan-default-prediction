{
 "cells": [
  {
   "cell_type": "code",
   "execution_count": 1,
   "metadata": {
    "collapsed": true,
    "pycharm": {
     "name": "#%%\n"
    }
   },
   "outputs": [],
   "source": [
    "import pandas as pd\n",
    "from sklearn.cluster import DBSCAN\n",
    "from sklearn.preprocessing import StandardScaler\n",
    "import numpy as np\n",
    "import matplotlib.pyplot as plt\n",
    "from sklearn.model_selection import train_test_split\n",
    "import warnings\n",
    "warnings.filterwarnings('ignore')\n",
    "\n",
    "from sklearn.tree import DecisionTreeClassifier\n",
    "from sklearn.metrics import accuracy_score,confusion_matrix,classification_report\n",
    "from sklearn.model_selection import GridSearchCV\n",
    "from sklearn.model_selection import KFold, cross_val_score"
   ]
  },
  {
   "cell_type": "markdown",
   "source": [
    "### Data import"
   ],
   "metadata": {
    "collapsed": false,
    "pycharm": {
     "name": "#%% md\n"
    }
   }
  },
  {
   "cell_type": "code",
   "execution_count": 2,
   "outputs": [],
   "source": [
    "result=pd.read_csv(\"new_final.csv\")"
   ],
   "metadata": {
    "collapsed": false,
    "pycharm": {
     "name": "#%%\n"
    }
   }
  },
  {
   "cell_type": "code",
   "execution_count": 32,
   "outputs": [
    {
     "data": {
      "text/plain": "   payFrequency    apr  originated  nPaidOff  approved  loanStatus  \\\n0             0  199.0           1       0.0         1           1   \n1             0  199.0           1       0.0         1           1   \n2             0  199.0           1       0.0         1           1   \n3             0  199.0           1       0.0         1           1   \n4             0  199.0           1       0.0         1           1   \n\n   loanAmount  originallyScheduledPaymentAmount  state  leadType  leadCost  \\\n0      3000.0                           6395.19      4         3       0.0   \n1      3000.0                           6395.19      4         3       0.0   \n2      3000.0                           6395.19      4         3       0.0   \n3      3000.0                           6395.19      4         3       0.0   \n4      3000.0                           6395.19      4         3       0.0   \n\n   Application_Year  Application_Month  installmentIndex  isCollection  \\\n0              2016                  1               1.0             0   \n1              2016                  1               2.0             0   \n2              2016                  1               3.0             0   \n3              2016                  1               4.0             0   \n4              2016                  1               5.0             0   \n\n   principal    fees  paymentAmount  paymentStatus  isFunded  \n0     151.98  114.49         266.47              1       1.0  \n1      49.08  217.39         266.47              1       1.0  \n2      52.83  213.64         266.47              1       1.0  \n3      56.86  209.61         266.47              1       1.0  \n4      61.20  205.27         266.47              1       1.0  ",
      "text/html": "<div>\n<style scoped>\n    .dataframe tbody tr th:only-of-type {\n        vertical-align: middle;\n    }\n\n    .dataframe tbody tr th {\n        vertical-align: top;\n    }\n\n    .dataframe thead th {\n        text-align: right;\n    }\n</style>\n<table border=\"1\" class=\"dataframe\">\n  <thead>\n    <tr style=\"text-align: right;\">\n      <th></th>\n      <th>payFrequency</th>\n      <th>apr</th>\n      <th>originated</th>\n      <th>nPaidOff</th>\n      <th>approved</th>\n      <th>loanStatus</th>\n      <th>loanAmount</th>\n      <th>originallyScheduledPaymentAmount</th>\n      <th>state</th>\n      <th>leadType</th>\n      <th>leadCost</th>\n      <th>Application_Year</th>\n      <th>Application_Month</th>\n      <th>installmentIndex</th>\n      <th>isCollection</th>\n      <th>principal</th>\n      <th>fees</th>\n      <th>paymentAmount</th>\n      <th>paymentStatus</th>\n      <th>isFunded</th>\n    </tr>\n  </thead>\n  <tbody>\n    <tr>\n      <th>0</th>\n      <td>0</td>\n      <td>199.0</td>\n      <td>1</td>\n      <td>0.0</td>\n      <td>1</td>\n      <td>1</td>\n      <td>3000.0</td>\n      <td>6395.19</td>\n      <td>4</td>\n      <td>3</td>\n      <td>0.0</td>\n      <td>2016</td>\n      <td>1</td>\n      <td>1.0</td>\n      <td>0</td>\n      <td>151.98</td>\n      <td>114.49</td>\n      <td>266.47</td>\n      <td>1</td>\n      <td>1.0</td>\n    </tr>\n    <tr>\n      <th>1</th>\n      <td>0</td>\n      <td>199.0</td>\n      <td>1</td>\n      <td>0.0</td>\n      <td>1</td>\n      <td>1</td>\n      <td>3000.0</td>\n      <td>6395.19</td>\n      <td>4</td>\n      <td>3</td>\n      <td>0.0</td>\n      <td>2016</td>\n      <td>1</td>\n      <td>2.0</td>\n      <td>0</td>\n      <td>49.08</td>\n      <td>217.39</td>\n      <td>266.47</td>\n      <td>1</td>\n      <td>1.0</td>\n    </tr>\n    <tr>\n      <th>2</th>\n      <td>0</td>\n      <td>199.0</td>\n      <td>1</td>\n      <td>0.0</td>\n      <td>1</td>\n      <td>1</td>\n      <td>3000.0</td>\n      <td>6395.19</td>\n      <td>4</td>\n      <td>3</td>\n      <td>0.0</td>\n      <td>2016</td>\n      <td>1</td>\n      <td>3.0</td>\n      <td>0</td>\n      <td>52.83</td>\n      <td>213.64</td>\n      <td>266.47</td>\n      <td>1</td>\n      <td>1.0</td>\n    </tr>\n    <tr>\n      <th>3</th>\n      <td>0</td>\n      <td>199.0</td>\n      <td>1</td>\n      <td>0.0</td>\n      <td>1</td>\n      <td>1</td>\n      <td>3000.0</td>\n      <td>6395.19</td>\n      <td>4</td>\n      <td>3</td>\n      <td>0.0</td>\n      <td>2016</td>\n      <td>1</td>\n      <td>4.0</td>\n      <td>0</td>\n      <td>56.86</td>\n      <td>209.61</td>\n      <td>266.47</td>\n      <td>1</td>\n      <td>1.0</td>\n    </tr>\n    <tr>\n      <th>4</th>\n      <td>0</td>\n      <td>199.0</td>\n      <td>1</td>\n      <td>0.0</td>\n      <td>1</td>\n      <td>1</td>\n      <td>3000.0</td>\n      <td>6395.19</td>\n      <td>4</td>\n      <td>3</td>\n      <td>0.0</td>\n      <td>2016</td>\n      <td>1</td>\n      <td>5.0</td>\n      <td>0</td>\n      <td>61.20</td>\n      <td>205.27</td>\n      <td>266.47</td>\n      <td>1</td>\n      <td>1.0</td>\n    </tr>\n  </tbody>\n</table>\n</div>"
     },
     "execution_count": 32,
     "metadata": {},
     "output_type": "execute_result"
    }
   ],
   "source": [
    "result.head()  # sample data"
   ],
   "metadata": {
    "collapsed": false,
    "pycharm": {
     "name": "#%%\n"
    }
   }
  },
  {
   "cell_type": "code",
   "execution_count": 6,
   "outputs": [],
   "source": [
    "X = result.drop('isFunded',axis=1)   # spliting data x and y\n",
    "y = result[['isFunded']]"
   ],
   "metadata": {
    "collapsed": false,
    "pycharm": {
     "name": "#%%\n"
    }
   }
  },
  {
   "cell_type": "code",
   "execution_count": 7,
   "outputs": [],
   "source": [
    "X_train,X_test,y_train,y_test = train_test_split(X,y,test_size=0.20,random_state=123)   # using train_test_split to split data 80 percent 20 percent"
   ],
   "metadata": {
    "collapsed": false,
    "pycharm": {
     "name": "#%%\n"
    }
   }
  },
  {
   "cell_type": "code",
   "execution_count": 8,
   "outputs": [
    {
     "data": {
      "text/plain": "        payFrequency     apr  originated  nPaidOff  approved  loanStatus  \\\n126910             1  490.00           1       0.0         1           3   \n383397             0  570.32           1       1.0         1           1   \n382376             1  578.00           1       2.0         1           6   \n247356             0  590.00           1       0.0         1           0   \n280609             0  645.00           1       0.0         1           2   \n...              ...     ...         ...       ...       ...         ...   \n194278             0  645.00           1       0.0         1           1   \n192476             1  590.00           1       0.0         1           0   \n17730              0  360.00           1       0.0         1           1   \n28030              2  590.00           1       3.0         1           8   \n277869             1  681.00           1       0.0         1           0   \n\n        loanAmount  originallyScheduledPaymentAmount  state  leadType  \\\n126910       500.0                           1367.55      7         0   \n383397       400.0                           1087.90      0         1   \n382376       300.0                            938.53      3         2   \n247356       300.0                            861.99     18         0   \n280609       600.0                           1871.51     12         1   \n...            ...                               ...    ...       ...   \n194278       650.0                           2247.06     15         1   \n192476       500.0                           1490.65      0         0   \n17730        500.0                           1074.14      1         1   \n28030       1000.0                           3218.21     12         9   \n277869       300.0                            992.52      6         0   \n\n        leadCost  Application_Year  Application_Month  installmentIndex  \\\n126910       3.0              2016                 12              10.0   \n383397       6.0              2014                 12               6.0   \n382376       0.0              2016                  5              11.0   \n247356       3.0              2016                 11              11.0   \n280609      10.0              2017                  1              12.0   \n...          ...               ...                ...               ...   \n194278      25.0              2016                 12               9.0   \n192476       3.0              2015                 12              11.0   \n17730       25.0              2017                  2               1.0   \n28030        0.0              2016                 12               4.0   \n277869      10.0              2016                  2               8.0   \n\n        isCollection  principal    fees  paymentAmount  paymentStatus  \n126910             0      11.41   41.14          52.55              1  \n383397             0      20.23   78.67          98.90              0  \n382376             0       6.66   29.18          35.84              0  \n247356             0      35.94   30.36          66.30              0  \n280609             0      92.49   51.46         143.95              0  \n...              ...        ...     ...            ...            ...  \n194278             0      45.88  126.97         172.85              0  \n192476             0      13.75   47.90          61.65              0  \n17730              0      28.37   54.25          82.62              1  \n28030              0      63.94  202.07         266.01              1  \n277869             0       5.14   36.22          41.36              1  \n\n[420029 rows x 19 columns]",
      "text/html": "<div>\n<style scoped>\n    .dataframe tbody tr th:only-of-type {\n        vertical-align: middle;\n    }\n\n    .dataframe tbody tr th {\n        vertical-align: top;\n    }\n\n    .dataframe thead th {\n        text-align: right;\n    }\n</style>\n<table border=\"1\" class=\"dataframe\">\n  <thead>\n    <tr style=\"text-align: right;\">\n      <th></th>\n      <th>payFrequency</th>\n      <th>apr</th>\n      <th>originated</th>\n      <th>nPaidOff</th>\n      <th>approved</th>\n      <th>loanStatus</th>\n      <th>loanAmount</th>\n      <th>originallyScheduledPaymentAmount</th>\n      <th>state</th>\n      <th>leadType</th>\n      <th>leadCost</th>\n      <th>Application_Year</th>\n      <th>Application_Month</th>\n      <th>installmentIndex</th>\n      <th>isCollection</th>\n      <th>principal</th>\n      <th>fees</th>\n      <th>paymentAmount</th>\n      <th>paymentStatus</th>\n    </tr>\n  </thead>\n  <tbody>\n    <tr>\n      <th>126910</th>\n      <td>1</td>\n      <td>490.00</td>\n      <td>1</td>\n      <td>0.0</td>\n      <td>1</td>\n      <td>3</td>\n      <td>500.0</td>\n      <td>1367.55</td>\n      <td>7</td>\n      <td>0</td>\n      <td>3.0</td>\n      <td>2016</td>\n      <td>12</td>\n      <td>10.0</td>\n      <td>0</td>\n      <td>11.41</td>\n      <td>41.14</td>\n      <td>52.55</td>\n      <td>1</td>\n    </tr>\n    <tr>\n      <th>383397</th>\n      <td>0</td>\n      <td>570.32</td>\n      <td>1</td>\n      <td>1.0</td>\n      <td>1</td>\n      <td>1</td>\n      <td>400.0</td>\n      <td>1087.90</td>\n      <td>0</td>\n      <td>1</td>\n      <td>6.0</td>\n      <td>2014</td>\n      <td>12</td>\n      <td>6.0</td>\n      <td>0</td>\n      <td>20.23</td>\n      <td>78.67</td>\n      <td>98.90</td>\n      <td>0</td>\n    </tr>\n    <tr>\n      <th>382376</th>\n      <td>1</td>\n      <td>578.00</td>\n      <td>1</td>\n      <td>2.0</td>\n      <td>1</td>\n      <td>6</td>\n      <td>300.0</td>\n      <td>938.53</td>\n      <td>3</td>\n      <td>2</td>\n      <td>0.0</td>\n      <td>2016</td>\n      <td>5</td>\n      <td>11.0</td>\n      <td>0</td>\n      <td>6.66</td>\n      <td>29.18</td>\n      <td>35.84</td>\n      <td>0</td>\n    </tr>\n    <tr>\n      <th>247356</th>\n      <td>0</td>\n      <td>590.00</td>\n      <td>1</td>\n      <td>0.0</td>\n      <td>1</td>\n      <td>0</td>\n      <td>300.0</td>\n      <td>861.99</td>\n      <td>18</td>\n      <td>0</td>\n      <td>3.0</td>\n      <td>2016</td>\n      <td>11</td>\n      <td>11.0</td>\n      <td>0</td>\n      <td>35.94</td>\n      <td>30.36</td>\n      <td>66.30</td>\n      <td>0</td>\n    </tr>\n    <tr>\n      <th>280609</th>\n      <td>0</td>\n      <td>645.00</td>\n      <td>1</td>\n      <td>0.0</td>\n      <td>1</td>\n      <td>2</td>\n      <td>600.0</td>\n      <td>1871.51</td>\n      <td>12</td>\n      <td>1</td>\n      <td>10.0</td>\n      <td>2017</td>\n      <td>1</td>\n      <td>12.0</td>\n      <td>0</td>\n      <td>92.49</td>\n      <td>51.46</td>\n      <td>143.95</td>\n      <td>0</td>\n    </tr>\n    <tr>\n      <th>...</th>\n      <td>...</td>\n      <td>...</td>\n      <td>...</td>\n      <td>...</td>\n      <td>...</td>\n      <td>...</td>\n      <td>...</td>\n      <td>...</td>\n      <td>...</td>\n      <td>...</td>\n      <td>...</td>\n      <td>...</td>\n      <td>...</td>\n      <td>...</td>\n      <td>...</td>\n      <td>...</td>\n      <td>...</td>\n      <td>...</td>\n      <td>...</td>\n    </tr>\n    <tr>\n      <th>194278</th>\n      <td>0</td>\n      <td>645.00</td>\n      <td>1</td>\n      <td>0.0</td>\n      <td>1</td>\n      <td>1</td>\n      <td>650.0</td>\n      <td>2247.06</td>\n      <td>15</td>\n      <td>1</td>\n      <td>25.0</td>\n      <td>2016</td>\n      <td>12</td>\n      <td>9.0</td>\n      <td>0</td>\n      <td>45.88</td>\n      <td>126.97</td>\n      <td>172.85</td>\n      <td>0</td>\n    </tr>\n    <tr>\n      <th>192476</th>\n      <td>1</td>\n      <td>590.00</td>\n      <td>1</td>\n      <td>0.0</td>\n      <td>1</td>\n      <td>0</td>\n      <td>500.0</td>\n      <td>1490.65</td>\n      <td>0</td>\n      <td>0</td>\n      <td>3.0</td>\n      <td>2015</td>\n      <td>12</td>\n      <td>11.0</td>\n      <td>0</td>\n      <td>13.75</td>\n      <td>47.90</td>\n      <td>61.65</td>\n      <td>0</td>\n    </tr>\n    <tr>\n      <th>17730</th>\n      <td>0</td>\n      <td>360.00</td>\n      <td>1</td>\n      <td>0.0</td>\n      <td>1</td>\n      <td>1</td>\n      <td>500.0</td>\n      <td>1074.14</td>\n      <td>1</td>\n      <td>1</td>\n      <td>25.0</td>\n      <td>2017</td>\n      <td>2</td>\n      <td>1.0</td>\n      <td>0</td>\n      <td>28.37</td>\n      <td>54.25</td>\n      <td>82.62</td>\n      <td>1</td>\n    </tr>\n    <tr>\n      <th>28030</th>\n      <td>2</td>\n      <td>590.00</td>\n      <td>1</td>\n      <td>3.0</td>\n      <td>1</td>\n      <td>8</td>\n      <td>1000.0</td>\n      <td>3218.21</td>\n      <td>12</td>\n      <td>9</td>\n      <td>0.0</td>\n      <td>2016</td>\n      <td>12</td>\n      <td>4.0</td>\n      <td>0</td>\n      <td>63.94</td>\n      <td>202.07</td>\n      <td>266.01</td>\n      <td>1</td>\n    </tr>\n    <tr>\n      <th>277869</th>\n      <td>1</td>\n      <td>681.00</td>\n      <td>1</td>\n      <td>0.0</td>\n      <td>1</td>\n      <td>0</td>\n      <td>300.0</td>\n      <td>992.52</td>\n      <td>6</td>\n      <td>0</td>\n      <td>10.0</td>\n      <td>2016</td>\n      <td>2</td>\n      <td>8.0</td>\n      <td>0</td>\n      <td>5.14</td>\n      <td>36.22</td>\n      <td>41.36</td>\n      <td>1</td>\n    </tr>\n  </tbody>\n</table>\n<p>420029 rows × 19 columns</p>\n</div>"
     },
     "execution_count": 8,
     "metadata": {},
     "output_type": "execute_result"
    }
   ],
   "source": [
    "X_train  # split x train data"
   ],
   "metadata": {
    "collapsed": false,
    "pycharm": {
     "name": "#%%\n"
    }
   }
  },
  {
   "cell_type": "code",
   "execution_count": 9,
   "outputs": [
    {
     "data": {
      "text/plain": "((420029, 19), (420029, 1))"
     },
     "execution_count": 9,
     "metadata": {},
     "output_type": "execute_result"
    }
   ],
   "source": [
    "X_train.shape,y_train.shape  # x and y train data number of column and row"
   ],
   "metadata": {
    "collapsed": false,
    "pycharm": {
     "name": "#%%\n"
    }
   }
  },
  {
   "cell_type": "code",
   "execution_count": 10,
   "outputs": [
    {
     "data": {
      "text/plain": "((105008, 19), (105008, 1))"
     },
     "execution_count": 10,
     "metadata": {},
     "output_type": "execute_result"
    }
   ],
   "source": [
    "X_test.shape,y_test.shape  # x and y test data number of column and row"
   ],
   "metadata": {
    "collapsed": false,
    "pycharm": {
     "name": "#%%\n"
    }
   }
  },
  {
   "cell_type": "code",
   "execution_count": 11,
   "outputs": [
    {
     "data": {
      "text/plain": "DecisionTreeClassifier(max_depth=3)",
      "text/html": "<style>#sk-container-id-1 {\n  /* Definition of color scheme common for light and dark mode */\n  --sklearn-color-text: black;\n  --sklearn-color-line: gray;\n  /* Definition of color scheme for unfitted estimators */\n  --sklearn-color-unfitted-level-0: #fff5e6;\n  --sklearn-color-unfitted-level-1: #f6e4d2;\n  --sklearn-color-unfitted-level-2: #ffe0b3;\n  --sklearn-color-unfitted-level-3: chocolate;\n  /* Definition of color scheme for fitted estimators */\n  --sklearn-color-fitted-level-0: #f0f8ff;\n  --sklearn-color-fitted-level-1: #d4ebff;\n  --sklearn-color-fitted-level-2: #b3dbfd;\n  --sklearn-color-fitted-level-3: cornflowerblue;\n\n  /* Specific color for light theme */\n  --sklearn-color-text-on-default-background: var(--sg-text-color, var(--theme-code-foreground, var(--jp-content-font-color1, black)));\n  --sklearn-color-background: var(--sg-background-color, var(--theme-background, var(--jp-layout-color0, white)));\n  --sklearn-color-border-box: var(--sg-text-color, var(--theme-code-foreground, var(--jp-content-font-color1, black)));\n  --sklearn-color-icon: #696969;\n\n  @media (prefers-color-scheme: dark) {\n    /* Redefinition of color scheme for dark theme */\n    --sklearn-color-text-on-default-background: var(--sg-text-color, var(--theme-code-foreground, var(--jp-content-font-color1, white)));\n    --sklearn-color-background: var(--sg-background-color, var(--theme-background, var(--jp-layout-color0, #111)));\n    --sklearn-color-border-box: var(--sg-text-color, var(--theme-code-foreground, var(--jp-content-font-color1, white)));\n    --sklearn-color-icon: #878787;\n  }\n}\n\n#sk-container-id-1 {\n  color: var(--sklearn-color-text);\n}\n\n#sk-container-id-1 pre {\n  padding: 0;\n}\n\n#sk-container-id-1 input.sk-hidden--visually {\n  border: 0;\n  clip: rect(1px 1px 1px 1px);\n  clip: rect(1px, 1px, 1px, 1px);\n  height: 1px;\n  margin: -1px;\n  overflow: hidden;\n  padding: 0;\n  position: absolute;\n  width: 1px;\n}\n\n#sk-container-id-1 div.sk-dashed-wrapped {\n  border: 1px dashed var(--sklearn-color-line);\n  margin: 0 0.4em 0.5em 0.4em;\n  box-sizing: border-box;\n  padding-bottom: 0.4em;\n  background-color: var(--sklearn-color-background);\n}\n\n#sk-container-id-1 div.sk-container {\n  /* jupyter's `normalize.less` sets `[hidden] { display: none; }`\n     but bootstrap.min.css set `[hidden] { display: none !important; }`\n     so we also need the `!important` here to be able to override the\n     default hidden behavior on the sphinx rendered scikit-learn.org.\n     See: https://github.com/scikit-learn/scikit-learn/issues/21755 */\n  display: inline-block !important;\n  position: relative;\n}\n\n#sk-container-id-1 div.sk-text-repr-fallback {\n  display: none;\n}\n\ndiv.sk-parallel-item,\ndiv.sk-serial,\ndiv.sk-item {\n  /* draw centered vertical line to link estimators */\n  background-image: linear-gradient(var(--sklearn-color-text-on-default-background), var(--sklearn-color-text-on-default-background));\n  background-size: 2px 100%;\n  background-repeat: no-repeat;\n  background-position: center center;\n}\n\n/* Parallel-specific style estimator block */\n\n#sk-container-id-1 div.sk-parallel-item::after {\n  content: \"\";\n  width: 100%;\n  border-bottom: 2px solid var(--sklearn-color-text-on-default-background);\n  flex-grow: 1;\n}\n\n#sk-container-id-1 div.sk-parallel {\n  display: flex;\n  align-items: stretch;\n  justify-content: center;\n  background-color: var(--sklearn-color-background);\n  position: relative;\n}\n\n#sk-container-id-1 div.sk-parallel-item {\n  display: flex;\n  flex-direction: column;\n}\n\n#sk-container-id-1 div.sk-parallel-item:first-child::after {\n  align-self: flex-end;\n  width: 50%;\n}\n\n#sk-container-id-1 div.sk-parallel-item:last-child::after {\n  align-self: flex-start;\n  width: 50%;\n}\n\n#sk-container-id-1 div.sk-parallel-item:only-child::after {\n  width: 0;\n}\n\n/* Serial-specific style estimator block */\n\n#sk-container-id-1 div.sk-serial {\n  display: flex;\n  flex-direction: column;\n  align-items: center;\n  background-color: var(--sklearn-color-background);\n  padding-right: 1em;\n  padding-left: 1em;\n}\n\n\n/* Toggleable style: style used for estimator/Pipeline/ColumnTransformer box that is\nclickable and can be expanded/collapsed.\n- Pipeline and ColumnTransformer use this feature and define the default style\n- Estimators will overwrite some part of the style using the `sk-estimator` class\n*/\n\n/* Pipeline and ColumnTransformer style (default) */\n\n#sk-container-id-1 div.sk-toggleable {\n  /* Default theme specific background. It is overwritten whether we have a\n  specific estimator or a Pipeline/ColumnTransformer */\n  background-color: var(--sklearn-color-background);\n}\n\n/* Toggleable label */\n#sk-container-id-1 label.sk-toggleable__label {\n  cursor: pointer;\n  display: block;\n  width: 100%;\n  margin-bottom: 0;\n  padding: 0.5em;\n  box-sizing: border-box;\n  text-align: center;\n}\n\n#sk-container-id-1 label.sk-toggleable__label-arrow:before {\n  /* Arrow on the left of the label */\n  content: \"▸\";\n  float: left;\n  margin-right: 0.25em;\n  color: var(--sklearn-color-icon);\n}\n\n#sk-container-id-1 label.sk-toggleable__label-arrow:hover:before {\n  color: var(--sklearn-color-text);\n}\n\n/* Toggleable content - dropdown */\n\n#sk-container-id-1 div.sk-toggleable__content {\n  max-height: 0;\n  max-width: 0;\n  overflow: hidden;\n  text-align: left;\n  /* unfitted */\n  background-color: var(--sklearn-color-unfitted-level-0);\n}\n\n#sk-container-id-1 div.sk-toggleable__content.fitted {\n  /* fitted */\n  background-color: var(--sklearn-color-fitted-level-0);\n}\n\n#sk-container-id-1 div.sk-toggleable__content pre {\n  margin: 0.2em;\n  border-radius: 0.25em;\n  color: var(--sklearn-color-text);\n  /* unfitted */\n  background-color: var(--sklearn-color-unfitted-level-0);\n}\n\n#sk-container-id-1 div.sk-toggleable__content.fitted pre {\n  /* unfitted */\n  background-color: var(--sklearn-color-fitted-level-0);\n}\n\n#sk-container-id-1 input.sk-toggleable__control:checked~div.sk-toggleable__content {\n  /* Expand drop-down */\n  max-height: 200px;\n  max-width: 100%;\n  overflow: auto;\n}\n\n#sk-container-id-1 input.sk-toggleable__control:checked~label.sk-toggleable__label-arrow:before {\n  content: \"▾\";\n}\n\n/* Pipeline/ColumnTransformer-specific style */\n\n#sk-container-id-1 div.sk-label input.sk-toggleable__control:checked~label.sk-toggleable__label {\n  color: var(--sklearn-color-text);\n  background-color: var(--sklearn-color-unfitted-level-2);\n}\n\n#sk-container-id-1 div.sk-label.fitted input.sk-toggleable__control:checked~label.sk-toggleable__label {\n  background-color: var(--sklearn-color-fitted-level-2);\n}\n\n/* Estimator-specific style */\n\n/* Colorize estimator box */\n#sk-container-id-1 div.sk-estimator input.sk-toggleable__control:checked~label.sk-toggleable__label {\n  /* unfitted */\n  background-color: var(--sklearn-color-unfitted-level-2);\n}\n\n#sk-container-id-1 div.sk-estimator.fitted input.sk-toggleable__control:checked~label.sk-toggleable__label {\n  /* fitted */\n  background-color: var(--sklearn-color-fitted-level-2);\n}\n\n#sk-container-id-1 div.sk-label label.sk-toggleable__label,\n#sk-container-id-1 div.sk-label label {\n  /* The background is the default theme color */\n  color: var(--sklearn-color-text-on-default-background);\n}\n\n/* On hover, darken the color of the background */\n#sk-container-id-1 div.sk-label:hover label.sk-toggleable__label {\n  color: var(--sklearn-color-text);\n  background-color: var(--sklearn-color-unfitted-level-2);\n}\n\n/* Label box, darken color on hover, fitted */\n#sk-container-id-1 div.sk-label.fitted:hover label.sk-toggleable__label.fitted {\n  color: var(--sklearn-color-text);\n  background-color: var(--sklearn-color-fitted-level-2);\n}\n\n/* Estimator label */\n\n#sk-container-id-1 div.sk-label label {\n  font-family: monospace;\n  font-weight: bold;\n  display: inline-block;\n  line-height: 1.2em;\n}\n\n#sk-container-id-1 div.sk-label-container {\n  text-align: center;\n}\n\n/* Estimator-specific */\n#sk-container-id-1 div.sk-estimator {\n  font-family: monospace;\n  border: 1px dotted var(--sklearn-color-border-box);\n  border-radius: 0.25em;\n  box-sizing: border-box;\n  margin-bottom: 0.5em;\n  /* unfitted */\n  background-color: var(--sklearn-color-unfitted-level-0);\n}\n\n#sk-container-id-1 div.sk-estimator.fitted {\n  /* fitted */\n  background-color: var(--sklearn-color-fitted-level-0);\n}\n\n/* on hover */\n#sk-container-id-1 div.sk-estimator:hover {\n  /* unfitted */\n  background-color: var(--sklearn-color-unfitted-level-2);\n}\n\n#sk-container-id-1 div.sk-estimator.fitted:hover {\n  /* fitted */\n  background-color: var(--sklearn-color-fitted-level-2);\n}\n\n/* Specification for estimator info (e.g. \"i\" and \"?\") */\n\n/* Common style for \"i\" and \"?\" */\n\n.sk-estimator-doc-link,\na:link.sk-estimator-doc-link,\na:visited.sk-estimator-doc-link {\n  float: right;\n  font-size: smaller;\n  line-height: 1em;\n  font-family: monospace;\n  background-color: var(--sklearn-color-background);\n  border-radius: 1em;\n  height: 1em;\n  width: 1em;\n  text-decoration: none !important;\n  margin-left: 1ex;\n  /* unfitted */\n  border: var(--sklearn-color-unfitted-level-1) 1pt solid;\n  color: var(--sklearn-color-unfitted-level-1);\n}\n\n.sk-estimator-doc-link.fitted,\na:link.sk-estimator-doc-link.fitted,\na:visited.sk-estimator-doc-link.fitted {\n  /* fitted */\n  border: var(--sklearn-color-fitted-level-1) 1pt solid;\n  color: var(--sklearn-color-fitted-level-1);\n}\n\n/* On hover */\ndiv.sk-estimator:hover .sk-estimator-doc-link:hover,\n.sk-estimator-doc-link:hover,\ndiv.sk-label-container:hover .sk-estimator-doc-link:hover,\n.sk-estimator-doc-link:hover {\n  /* unfitted */\n  background-color: var(--sklearn-color-unfitted-level-3);\n  color: var(--sklearn-color-background);\n  text-decoration: none;\n}\n\ndiv.sk-estimator.fitted:hover .sk-estimator-doc-link.fitted:hover,\n.sk-estimator-doc-link.fitted:hover,\ndiv.sk-label-container:hover .sk-estimator-doc-link.fitted:hover,\n.sk-estimator-doc-link.fitted:hover {\n  /* fitted */\n  background-color: var(--sklearn-color-fitted-level-3);\n  color: var(--sklearn-color-background);\n  text-decoration: none;\n}\n\n/* Span, style for the box shown on hovering the info icon */\n.sk-estimator-doc-link span {\n  display: none;\n  z-index: 9999;\n  position: relative;\n  font-weight: normal;\n  right: .2ex;\n  padding: .5ex;\n  margin: .5ex;\n  width: min-content;\n  min-width: 20ex;\n  max-width: 50ex;\n  color: var(--sklearn-color-text);\n  box-shadow: 2pt 2pt 4pt #999;\n  /* unfitted */\n  background: var(--sklearn-color-unfitted-level-0);\n  border: .5pt solid var(--sklearn-color-unfitted-level-3);\n}\n\n.sk-estimator-doc-link.fitted span {\n  /* fitted */\n  background: var(--sklearn-color-fitted-level-0);\n  border: var(--sklearn-color-fitted-level-3);\n}\n\n.sk-estimator-doc-link:hover span {\n  display: block;\n}\n\n/* \"?\"-specific style due to the `<a>` HTML tag */\n\n#sk-container-id-1 a.estimator_doc_link {\n  float: right;\n  font-size: 1rem;\n  line-height: 1em;\n  font-family: monospace;\n  background-color: var(--sklearn-color-background);\n  border-radius: 1rem;\n  height: 1rem;\n  width: 1rem;\n  text-decoration: none;\n  /* unfitted */\n  color: var(--sklearn-color-unfitted-level-1);\n  border: var(--sklearn-color-unfitted-level-1) 1pt solid;\n}\n\n#sk-container-id-1 a.estimator_doc_link.fitted {\n  /* fitted */\n  border: var(--sklearn-color-fitted-level-1) 1pt solid;\n  color: var(--sklearn-color-fitted-level-1);\n}\n\n/* On hover */\n#sk-container-id-1 a.estimator_doc_link:hover {\n  /* unfitted */\n  background-color: var(--sklearn-color-unfitted-level-3);\n  color: var(--sklearn-color-background);\n  text-decoration: none;\n}\n\n#sk-container-id-1 a.estimator_doc_link.fitted:hover {\n  /* fitted */\n  background-color: var(--sklearn-color-fitted-level-3);\n}\n</style><div id=\"sk-container-id-1\" class=\"sk-top-container\"><div class=\"sk-text-repr-fallback\"><pre>DecisionTreeClassifier(max_depth=3)</pre><b>In a Jupyter environment, please rerun this cell to show the HTML representation or trust the notebook. <br />On GitHub, the HTML representation is unable to render, please try loading this page with nbviewer.org.</b></div><div class=\"sk-container\" hidden><div class=\"sk-item\"><div class=\"sk-estimator fitted sk-toggleable\"><input class=\"sk-toggleable__control sk-hidden--visually\" id=\"sk-estimator-id-1\" type=\"checkbox\" checked><label for=\"sk-estimator-id-1\" class=\"sk-toggleable__label fitted sk-toggleable__label-arrow fitted\">&nbsp;&nbsp;DecisionTreeClassifier<a class=\"sk-estimator-doc-link fitted\" rel=\"noreferrer\" target=\"_blank\" href=\"https://scikit-learn.org/1.4/modules/generated/sklearn.tree.DecisionTreeClassifier.html\">?<span>Documentation for DecisionTreeClassifier</span></a><span class=\"sk-estimator-doc-link fitted\">i<span>Fitted</span></span></label><div class=\"sk-toggleable__content fitted\"><pre>DecisionTreeClassifier(max_depth=3)</pre></div> </div></div></div></div>"
     },
     "execution_count": 11,
     "metadata": {},
     "output_type": "execute_result"
    }
   ],
   "source": [
    "dt_model = DecisionTreeClassifier(max_depth = 3,criterion='gini')   # create model using gini\n",
    "dt_model.fit(X_train,y_train)"
   ],
   "metadata": {
    "collapsed": false,
    "pycharm": {
     "name": "#%%\n"
    }
   }
  },
  {
   "cell_type": "code",
   "execution_count": 14,
   "outputs": [],
   "source": [
    "y_pred_train = dt_model.predict(X_train)"
   ],
   "metadata": {
    "collapsed": false,
    "pycharm": {
     "name": "#%%\n"
    }
   }
  },
  {
   "cell_type": "code",
   "execution_count": 16,
   "outputs": [
    {
     "name": "stdout",
     "output_type": "stream",
     "text": [
      "Accuracy: 0.9095538641379524\n",
      "Cf Matrix: [[ 56145  11528]\n",
      " [ 26462 325894]]\n",
      "Classification:               precision    recall  f1-score   support\n",
      "\n",
      "         0.0       0.68      0.83      0.75     67673\n",
      "         1.0       0.97      0.92      0.94    352356\n",
      "\n",
      "    accuracy                           0.91    420029\n",
      "   macro avg       0.82      0.88      0.85    420029\n",
      "weighted avg       0.92      0.91      0.91    420029\n",
      "\n"
     ]
    }
   ],
   "source": [
    "from sklearn.metrics import accuracy_score,confusion_matrix,classification_report\n",
    "print('Accuracy:',accuracy_score(y_train,y_pred_train))\n",
    "print('Cf Matrix:',confusion_matrix(y_train,y_pred_train))\n",
    "print('Classification:',classification_report(y_train,y_pred_train))"
   ],
   "metadata": {
    "collapsed": false,
    "pycharm": {
     "name": "#%%\n"
    }
   }
  },
  {
   "cell_type": "code",
   "execution_count": 18,
   "outputs": [
    {
     "name": "stdout",
     "output_type": "stream",
     "text": [
      "Area Under the Curve[AUC]:  0.8772756145835574\n"
     ]
    }
   ],
   "source": [
    "from sklearn.metrics import roc_curve,roc_auc_score\n",
    "fpr, tpr, thresholds = roc_curve(y, dt_model.predict_proba (X)[:,1])\n",
    "auc = roc_auc_score(y_train,y_pred_train)\n",
    "print('Area Under the Curve[AUC]: ',auc)"
   ],
   "metadata": {
    "collapsed": false,
    "pycharm": {
     "name": "#%%\n"
    }
   }
  },
  {
   "cell_type": "code",
   "execution_count": 20,
   "outputs": [
    {
     "data": {
      "text/plain": "Text(0, 0.5, 'True Positive Rate')"
     },
     "execution_count": 20,
     "metadata": {},
     "output_type": "execute_result"
    },
    {
     "data": {
      "text/plain": "<Figure size 640x480 with 1 Axes>",
      "image/png": "[encoded data removed]"
     },
     "metadata": {},
     "output_type": "display_data"
    }
   ],
   "source": [
    "import matplotlib.pyplot as plt\n",
    "plt.plot(fpr, tpr, color='red', label='logit model ( area  = %0.2f)'%auc)\n",
    "plt.plot([0, 1], [0, 1], 'k--')\n",
    "plt.xlabel('False Positive Rate')\n",
    "plt.ylabel('True Positive Rate')"
   ],
   "metadata": {
    "collapsed": false,
    "pycharm": {
     "name": "#%%\n"
    }
   }
  },
  {
   "cell_type": "code",
   "execution_count": 22,
   "outputs": [],
   "source": [
    "y_pred_test = dt_model.predict(X_test)"
   ],
   "metadata": {
    "collapsed": false,
    "pycharm": {
     "name": "#%%\n"
    }
   }
  },
  {
   "cell_type": "code",
   "execution_count": 24,
   "outputs": [
    {
     "data": {
      "text/plain": "0.909406902331251"
     },
     "execution_count": 24,
     "metadata": {},
     "output_type": "execute_result"
    }
   ],
   "source": [
    "accuracy_score(y_test,y_pred_test)  # test accuracy of gini"
   ],
   "metadata": {
    "collapsed": false,
    "pycharm": {
     "name": "#%%\n"
    }
   }
  },
  {
   "cell_type": "markdown",
   "source": [
    "### finding optimal tree depth and training model ."
   ],
   "metadata": {
    "collapsed": false,
    "pycharm": {
     "name": "#%% md\n"
    }
   }
  },
  {
   "cell_type": "code",
   "execution_count": 12,
   "outputs": [
    {
     "name": "stdout",
     "output_type": "stream",
     "text": [
      "{'criterion': 'entropy', 'max_depth': 9}\n",
      "0.9357111924781878\n"
     ]
    }
   ],
   "source": [
    "from sklearn.model_selection import GridSearchCV\n",
    "\n",
    "grid_search_cv = GridSearchCV(estimator = dt_model,param_grid = {'criterion':['entropy','gini'],\n",
    "                                                                'max_depth':[1,2,3,4,5,6,7,8,9,10]},\n",
    "                              cv=5)\n",
    "grid_search_cv.fit(X,y)\n",
    "print(grid_search_cv.best_params_)\n",
    "print(grid_search_cv.best_score_)"
   ],
   "metadata": {
    "collapsed": false,
    "pycharm": {
     "name": "#%%\n"
    }
   }
  },
  {
   "cell_type": "code",
   "execution_count": 13,
   "outputs": [
    {
     "data": {
      "text/plain": "DecisionTreeClassifier(criterion='entropy', max_depth=9)",
      "text/html": "<style>#sk-container-id-2 {\n  /* Definition of color scheme common for light and dark mode */\n  --sklearn-color-text: black;\n  --sklearn-color-line: gray;\n  /* Definition of color scheme for unfitted estimators */\n  --sklearn-color-unfitted-level-0: #fff5e6;\n  --sklearn-color-unfitted-level-1: #f6e4d2;\n  --sklearn-color-unfitted-level-2: #ffe0b3;\n  --sklearn-color-unfitted-level-3: chocolate;\n  /* Definition of color scheme for fitted estimators */\n  --sklearn-color-fitted-level-0: #f0f8ff;\n  --sklearn-color-fitted-level-1: #d4ebff;\n  --sklearn-color-fitted-level-2: #b3dbfd;\n  --sklearn-color-fitted-level-3: cornflowerblue;\n\n  /* Specific color for light theme */\n  --sklearn-color-text-on-default-background: var(--sg-text-color, var(--theme-code-foreground, var(--jp-content-font-color1, black)));\n  --sklearn-color-background: var(--sg-background-color, var(--theme-background, var(--jp-layout-color0, white)));\n  --sklearn-color-border-box: var(--sg-text-color, var(--theme-code-foreground, var(--jp-content-font-color1, black)));\n  --sklearn-color-icon: #696969;\n\n  @media (prefers-color-scheme: dark) {\n    /* Redefinition of color scheme for dark theme */\n    --sklearn-color-text-on-default-background: var(--sg-text-color, var(--theme-code-foreground, var(--jp-content-font-color1, white)));\n    --sklearn-color-background: var(--sg-background-color, var(--theme-background, var(--jp-layout-color0, #111)));\n    --sklearn-color-border-box: var(--sg-text-color, var(--theme-code-foreground, var(--jp-content-font-color1, white)));\n    --sklearn-color-icon: #878787;\n  }\n}\n\n#sk-container-id-2 {\n  color: var(--sklearn-color-text);\n}\n\n#sk-container-id-2 pre {\n  padding: 0;\n}\n\n#sk-container-id-2 input.sk-hidden--visually {\n  border: 0;\n  clip: rect(1px 1px 1px 1px);\n  clip: rect(1px, 1px, 1px, 1px);\n  height: 1px;\n  margin: -1px;\n  overflow: hidden;\n  padding: 0;\n  position: absolute;\n  width: 1px;\n}\n\n#sk-container-id-2 div.sk-dashed-wrapped {\n  border: 1px dashed var(--sklearn-color-line);\n  margin: 0 0.4em 0.5em 0.4em;\n  box-sizing: border-box;\n  padding-bottom: 0.4em;\n  background-color: var(--sklearn-color-background);\n}\n\n#sk-container-id-2 div.sk-container {\n  /* jupyter's `normalize.less` sets `[hidden] { display: none; }`\n     but bootstrap.min.css set `[hidden] { display: none !important; }`\n     so we also need the `!important` here to be able to override the\n     default hidden behavior on the sphinx rendered scikit-learn.org.\n     See: https://github.com/scikit-learn/scikit-learn/issues/21755 */\n  display: inline-block !important;\n  position: relative;\n}\n\n#sk-container-id-2 div.sk-text-repr-fallback {\n  display: none;\n}\n\ndiv.sk-parallel-item,\ndiv.sk-serial,\ndiv.sk-item {\n  /* draw centered vertical line to link estimators */\n  background-image: linear-gradient(var(--sklearn-color-text-on-default-background), var(--sklearn-color-text-on-default-background));\n  background-size: 2px 100%;\n  background-repeat: no-repeat;\n  background-position: center center;\n}\n\n/* Parallel-specific style estimator block */\n\n#sk-container-id-2 div.sk-parallel-item::after {\n  content: \"\";\n  width: 100%;\n  border-bottom: 2px solid var(--sklearn-color-text-on-default-background);\n  flex-grow: 1;\n}\n\n#sk-container-id-2 div.sk-parallel {\n  display: flex;\n  align-items: stretch;\n  justify-content: center;\n  background-color: var(--sklearn-color-background);\n  position: relative;\n}\n\n#sk-container-id-2 div.sk-parallel-item {\n  display: flex;\n  flex-direction: column;\n}\n\n#sk-container-id-2 div.sk-parallel-item:first-child::after {\n  align-self: flex-end;\n  width: 50%;\n}\n\n#sk-container-id-2 div.sk-parallel-item:last-child::after {\n  align-self: flex-start;\n  width: 50%;\n}\n\n#sk-container-id-2 div.sk-parallel-item:only-child::after {\n  width: 0;\n}\n\n/* Serial-specific style estimator block */\n\n#sk-container-id-2 div.sk-serial {\n  display: flex;\n  flex-direction: column;\n  align-items: center;\n  background-color: var(--sklearn-color-background);\n  padding-right: 1em;\n  padding-left: 1em;\n}\n\n\n/* Toggleable style: style used for estimator/Pipeline/ColumnTransformer box that is\nclickable and can be expanded/collapsed.\n- Pipeline and ColumnTransformer use this feature and define the default style\n- Estimators will overwrite some part of the style using the `sk-estimator` class\n*/\n\n/* Pipeline and ColumnTransformer style (default) */\n\n#sk-container-id-2 div.sk-toggleable {\n  /* Default theme specific background. It is overwritten whether we have a\n  specific estimator or a Pipeline/ColumnTransformer */\n  background-color: var(--sklearn-color-background);\n}\n\n/* Toggleable label */\n#sk-container-id-2 label.sk-toggleable__label {\n  cursor: pointer;\n  display: block;\n  width: 100%;\n  margin-bottom: 0;\n  padding: 0.5em;\n  box-sizing: border-box;\n  text-align: center;\n}\n\n#sk-container-id-2 label.sk-toggleable__label-arrow:before {\n  /* Arrow on the left of the label */\n  content: \"▸\";\n  float: left;\n  margin-right: 0.25em;\n  color: var(--sklearn-color-icon);\n}\n\n#sk-container-id-2 label.sk-toggleable__label-arrow:hover:before {\n  color: var(--sklearn-color-text);\n}\n\n/* Toggleable content - dropdown */\n\n#sk-container-id-2 div.sk-toggleable__content {\n  max-height: 0;\n  max-width: 0;\n  overflow: hidden;\n  text-align: left;\n  /* unfitted */\n  background-color: var(--sklearn-color-unfitted-level-0);\n}\n\n#sk-container-id-2 div.sk-toggleable__content.fitted {\n  /* fitted */\n  background-color: var(--sklearn-color-fitted-level-0);\n}\n\n#sk-container-id-2 div.sk-toggleable__content pre {\n  margin: 0.2em;\n  border-radius: 0.25em;\n  color: var(--sklearn-color-text);\n  /* unfitted */\n  background-color: var(--sklearn-color-unfitted-level-0);\n}\n\n#sk-container-id-2 div.sk-toggleable__content.fitted pre {\n  /* unfitted */\n  background-color: var(--sklearn-color-fitted-level-0);\n}\n\n#sk-container-id-2 input.sk-toggleable__control:checked~div.sk-toggleable__content {\n  /* Expand drop-down */\n  max-height: 200px;\n  max-width: 100%;\n  overflow: auto;\n}\n\n#sk-container-id-2 input.sk-toggleable__control:checked~label.sk-toggleable__label-arrow:before {\n  content: \"▾\";\n}\n\n/* Pipeline/ColumnTransformer-specific style */\n\n#sk-container-id-2 div.sk-label input.sk-toggleable__control:checked~label.sk-toggleable__label {\n  color: var(--sklearn-color-text);\n  background-color: var(--sklearn-color-unfitted-level-2);\n}\n\n#sk-container-id-2 div.sk-label.fitted input.sk-toggleable__control:checked~label.sk-toggleable__label {\n  background-color: var(--sklearn-color-fitted-level-2);\n}\n\n/* Estimator-specific style */\n\n/* Colorize estimator box */\n#sk-container-id-2 div.sk-estimator input.sk-toggleable__control:checked~label.sk-toggleable__label {\n  /* unfitted */\n  background-color: var(--sklearn-color-unfitted-level-2);\n}\n\n#sk-container-id-2 div.sk-estimator.fitted input.sk-toggleable__control:checked~label.sk-toggleable__label {\n  /* fitted */\n  background-color: var(--sklearn-color-fitted-level-2);\n}\n\n#sk-container-id-2 div.sk-label label.sk-toggleable__label,\n#sk-container-id-2 div.sk-label label {\n  /* The background is the default theme color */\n  color: var(--sklearn-color-text-on-default-background);\n}\n\n/* On hover, darken the color of the background */\n#sk-container-id-2 div.sk-label:hover label.sk-toggleable__label {\n  color: var(--sklearn-color-text);\n  background-color: var(--sklearn-color-unfitted-level-2);\n}\n\n/* Label box, darken color on hover, fitted */\n#sk-container-id-2 div.sk-label.fitted:hover label.sk-toggleable__label.fitted {\n  color: var(--sklearn-color-text);\n  background-color: var(--sklearn-color-fitted-level-2);\n}\n\n/* Estimator label */\n\n#sk-container-id-2 div.sk-label label {\n  font-family: monospace;\n  font-weight: bold;\n  display: inline-block;\n  line-height: 1.2em;\n}\n\n#sk-container-id-2 div.sk-label-container {\n  text-align: center;\n}\n\n/* Estimator-specific */\n#sk-container-id-2 div.sk-estimator {\n  font-family: monospace;\n  border: 1px dotted var(--sklearn-color-border-box);\n  border-radius: 0.25em;\n  box-sizing: border-box;\n  margin-bottom: 0.5em;\n  /* unfitted */\n  background-color: var(--sklearn-color-unfitted-level-0);\n}\n\n#sk-container-id-2 div.sk-estimator.fitted {\n  /* fitted */\n  background-color: var(--sklearn-color-fitted-level-0);\n}\n\n/* on hover */\n#sk-container-id-2 div.sk-estimator:hover {\n  /* unfitted */\n  background-color: var(--sklearn-color-unfitted-level-2);\n}\n\n#sk-container-id-2 div.sk-estimator.fitted:hover {\n  /* fitted */\n  background-color: var(--sklearn-color-fitted-level-2);\n}\n\n/* Specification for estimator info (e.g. \"i\" and \"?\") */\n\n/* Common style for \"i\" and \"?\" */\n\n.sk-estimator-doc-link,\na:link.sk-estimator-doc-link,\na:visited.sk-estimator-doc-link {\n  float: right;\n  font-size: smaller;\n  line-height: 1em;\n  font-family: monospace;\n  background-color: var(--sklearn-color-background);\n  border-radius: 1em;\n  height: 1em;\n  width: 1em;\n  text-decoration: none !important;\n  margin-left: 1ex;\n  /* unfitted */\n  border: var(--sklearn-color-unfitted-level-1) 1pt solid;\n  color: var(--sklearn-color-unfitted-level-1);\n}\n\n.sk-estimator-doc-link.fitted,\na:link.sk-estimator-doc-link.fitted,\na:visited.sk-estimator-doc-link.fitted {\n  /* fitted */\n  border: var(--sklearn-color-fitted-level-1) 1pt solid;\n  color: var(--sklearn-color-fitted-level-1);\n}\n\n/* On hover */\ndiv.sk-estimator:hover .sk-estimator-doc-link:hover,\n.sk-estimator-doc-link:hover,\ndiv.sk-label-container:hover .sk-estimator-doc-link:hover,\n.sk-estimator-doc-link:hover {\n  /* unfitted */\n  background-color: var(--sklearn-color-unfitted-level-3);\n  color: var(--sklearn-color-background);\n  text-decoration: none;\n}\n\ndiv.sk-estimator.fitted:hover .sk-estimator-doc-link.fitted:hover,\n.sk-estimator-doc-link.fitted:hover,\ndiv.sk-label-container:hover .sk-estimator-doc-link.fitted:hover,\n.sk-estimator-doc-link.fitted:hover {\n  /* fitted */\n  background-color: var(--sklearn-color-fitted-level-3);\n  color: var(--sklearn-color-background);\n  text-decoration: none;\n}\n\n/* Span, style for the box shown on hovering the info icon */\n.sk-estimator-doc-link span {\n  display: none;\n  z-index: 9999;\n  position: relative;\n  font-weight: normal;\n  right: .2ex;\n  padding: .5ex;\n  margin: .5ex;\n  width: min-content;\n  min-width: 20ex;\n  max-width: 50ex;\n  color: var(--sklearn-color-text);\n  box-shadow: 2pt 2pt 4pt #999;\n  /* unfitted */\n  background: var(--sklearn-color-unfitted-level-0);\n  border: .5pt solid var(--sklearn-color-unfitted-level-3);\n}\n\n.sk-estimator-doc-link.fitted span {\n  /* fitted */\n  background: var(--sklearn-color-fitted-level-0);\n  border: var(--sklearn-color-fitted-level-3);\n}\n\n.sk-estimator-doc-link:hover span {\n  display: block;\n}\n\n/* \"?\"-specific style due to the `<a>` HTML tag */\n\n#sk-container-id-2 a.estimator_doc_link {\n  float: right;\n  font-size: 1rem;\n  line-height: 1em;\n  font-family: monospace;\n  background-color: var(--sklearn-color-background);\n  border-radius: 1rem;\n  height: 1rem;\n  width: 1rem;\n  text-decoration: none;\n  /* unfitted */\n  color: var(--sklearn-color-unfitted-level-1);\n  border: var(--sklearn-color-unfitted-level-1) 1pt solid;\n}\n\n#sk-container-id-2 a.estimator_doc_link.fitted {\n  /* fitted */\n  border: var(--sklearn-color-fitted-level-1) 1pt solid;\n  color: var(--sklearn-color-fitted-level-1);\n}\n\n/* On hover */\n#sk-container-id-2 a.estimator_doc_link:hover {\n  /* unfitted */\n  background-color: var(--sklearn-color-unfitted-level-3);\n  color: var(--sklearn-color-background);\n  text-decoration: none;\n}\n\n#sk-container-id-2 a.estimator_doc_link.fitted:hover {\n  /* fitted */\n  background-color: var(--sklearn-color-fitted-level-3);\n}\n</style><div id=\"sk-container-id-2\" class=\"sk-top-container\"><div class=\"sk-text-repr-fallback\"><pre>DecisionTreeClassifier(criterion=&#x27;entropy&#x27;, max_depth=9)</pre><b>In a Jupyter environment, please rerun this cell to show the HTML representation or trust the notebook. <br />On GitHub, the HTML representation is unable to render, please try loading this page with nbviewer.org.</b></div><div class=\"sk-container\" hidden><div class=\"sk-item\"><div class=\"sk-estimator fitted sk-toggleable\"><input class=\"sk-toggleable__control sk-hidden--visually\" id=\"sk-estimator-id-2\" type=\"checkbox\" checked><label for=\"sk-estimator-id-2\" class=\"sk-toggleable__label fitted sk-toggleable__label-arrow fitted\">&nbsp;&nbsp;DecisionTreeClassifier<a class=\"sk-estimator-doc-link fitted\" rel=\"noreferrer\" target=\"_blank\" href=\"https://scikit-learn.org/1.4/modules/generated/sklearn.tree.DecisionTreeClassifier.html\">?<span>Documentation for DecisionTreeClassifier</span></a><span class=\"sk-estimator-doc-link fitted\">i<span>Fitted</span></span></label><div class=\"sk-toggleable__content fitted\"><pre>DecisionTreeClassifier(criterion=&#x27;entropy&#x27;, max_depth=9)</pre></div> </div></div></div></div>"
     },
     "execution_count": 13,
     "metadata": {},
     "output_type": "execute_result"
    }
   ],
   "source": [
    "dt_model1 = DecisionTreeClassifier(max_depth = 9,criterion='entropy')   # Training DT with max depth 9 which came out optimal\n",
    "dt_model1.fit(X_train,y_train)"
   ],
   "metadata": {
    "collapsed": false,
    "pycharm": {
     "name": "#%%\n"
    }
   }
  },
  {
   "cell_type": "code",
   "execution_count": 15,
   "outputs": [],
   "source": [
    "y_pred_train1 = dt_model1.predict(X_train)"
   ],
   "metadata": {
    "collapsed": false,
    "pycharm": {
     "name": "#%%\n"
    }
   }
  },
  {
   "cell_type": "code",
   "execution_count": 17,
   "outputs": [
    {
     "name": "stdout",
     "output_type": "stream",
     "text": [
      "Accuracy:  0.9438824462120473\n",
      "Cf Matrix:\n",
      " [[ 60816   6857]\n",
      " [ 16714 335642]]\n",
      "Classification:               precision    recall  f1-score   support\n",
      "\n",
      "         0.0       0.78      0.90      0.84     67673\n",
      "         1.0       0.98      0.95      0.97    352356\n",
      "\n",
      "    accuracy                           0.94    420029\n",
      "   macro avg       0.88      0.93      0.90    420029\n",
      "weighted avg       0.95      0.94      0.95    420029\n",
      "\n"
     ]
    }
   ],
   "source": [
    "print('Accuracy: ',accuracy_score(y_train,y_pred_train1))     # Checking Accuracy\n",
    "print('Cf Matrix:\\n',confusion_matrix(y_train,y_pred_train1))\n",
    "print('Classification:',classification_report(y_train,y_pred_train1))"
   ],
   "metadata": {
    "collapsed": false,
    "pycharm": {
     "name": "#%%\n"
    }
   }
  },
  {
   "cell_type": "code",
   "execution_count": 19,
   "outputs": [
    {
     "name": "stdout",
     "output_type": "stream",
     "text": [
      "Area Under the Curve[AUC]:  0.9256197638830996\n"
     ]
    }
   ],
   "source": [
    "from sklearn.metrics import roc_curve,roc_auc_score    # Finding AUC for Entropy loss method , For training\n",
    "fpr, tpr, thresholds = roc_curve(y, dt_model1.predict_proba (X)[:,1])\n",
    "auc = roc_auc_score(y_train,y_pred_train1)\n",
    "print('Area Under the Curve[AUC]: ',auc)"
   ],
   "metadata": {
    "collapsed": false,
    "pycharm": {
     "name": "#%%\n"
    }
   }
  },
  {
   "cell_type": "code",
   "execution_count": 21,
   "outputs": [
    {
     "data": {
      "text/plain": "Text(0, 0.5, 'True Positive Rate')"
     },
     "execution_count": 21,
     "metadata": {},
     "output_type": "execute_result"
    },
    {
     "data": {
      "text/plain": "<Figure size 640x480 with 1 Axes>",
      "image/png": "[encoded data removed]"
     },
     "metadata": {},
     "output_type": "display_data"
    }
   ],
   "source": [
    "plt.plot(fpr, tpr, color='red', label='logit model ( area  = %0.2f)'%auc)\n",
    "plt.plot([0, 1], [0, 1], 'k--')\n",
    "plt.xlabel('False Positive Rate')\n",
    "plt.ylabel('True Positive Rate')"
   ],
   "metadata": {
    "collapsed": false,
    "pycharm": {
     "name": "#%%\n"
    }
   }
  },
  {
   "cell_type": "code",
   "execution_count": 23,
   "outputs": [],
   "source": [
    "y_pred_test1 = dt_model1.predict(X_test)     # Test Accuracy for Entropy method"
   ],
   "metadata": {
    "collapsed": false,
    "pycharm": {
     "name": "#%%\n"
    }
   }
  },
  {
   "cell_type": "code",
   "execution_count": 25,
   "outputs": [
    {
     "data": {
      "text/plain": "0.9429091116867286"
     },
     "execution_count": 25,
     "metadata": {},
     "output_type": "execute_result"
    }
   ],
   "source": [
    "accuracy_score(y_test,y_pred_test1)"
   ],
   "metadata": {
    "collapsed": false,
    "pycharm": {
     "name": "#%%\n"
    }
   }
  },
  {
   "cell_type": "markdown",
   "source": [
    "### Applying k fold cross validation for checking model accuracy"
   ],
   "metadata": {
    "collapsed": false,
    "pycharm": {
     "name": "#%% md\n"
    }
   }
  },
  {
   "cell_type": "code",
   "execution_count": 26,
   "outputs": [
    {
     "data": {
      "text/plain": "        payFrequency    apr  originated  nPaidOff  approved  loanStatus  \\\n0                  0  199.0           1       0.0         1           1   \n1                  0  199.0           1       0.0         1           1   \n2                  0  199.0           1       0.0         1           1   \n3                  0  199.0           1       0.0         1           1   \n4                  0  199.0           1       0.0         1           1   \n...              ...    ...         ...       ...       ...         ...   \n420024             1  590.0           1       0.0         1           0   \n420025             1  590.0           1       0.0         1           0   \n420026             1  590.0           1       0.0         1           0   \n420027             1  590.0           1       0.0         1           0   \n420028             1  590.0           1       0.0         1           0   \n\n        loanAmount  originallyScheduledPaymentAmount  state  leadType  \\\n0           3000.0                           6395.19      4         3   \n1           3000.0                           6395.19      4         3   \n2           3000.0                           6395.19      4         3   \n3           3000.0                           6395.19      4         3   \n4           3000.0                           6395.19      4         3   \n...            ...                               ...    ...       ...   \n420024       400.0                           1205.78      7         0   \n420025       400.0                           1205.78      7         0   \n420026       400.0                           1205.78      7         0   \n420027       400.0                           1205.78      7         0   \n420028       400.0                           1205.78      7         0   \n\n        leadCost  Application_Year  Application_Month  installmentIndex  \\\n0            0.0              2016                  1               1.0   \n1            0.0              2016                  1               2.0   \n2            0.0              2016                  1               3.0   \n3            0.0              2016                  1               4.0   \n4            0.0              2016                  1               5.0   \n...          ...               ...                ...               ...   \n420024       6.0              2015                 11               5.0   \n420025       6.0              2015                 11               6.0   \n420026       6.0              2015                 11               7.0   \n420027       6.0              2015                 11               8.0   \n420028       6.0              2015                 11               9.0   \n\n        isCollection  principal    fees  paymentAmount  paymentStatus  \\\n0                  0     151.98  114.49         266.47              1   \n1                  0      49.08  217.39         266.47              1   \n2                  0      52.83  213.64         266.47              1   \n3                  0      56.86  209.61         266.47              1   \n4                  0      61.20  205.27         266.47              1   \n...              ...        ...     ...            ...            ...   \n420024             0       6.33   43.00          49.33              1   \n420025             0       1.00   48.33          49.33              1   \n420026             0       7.17   42.17          49.34              1   \n420027             0       7.98   41.36          49.34              1   \n420028             0       8.87   40.46          49.33              1   \n\n        isFunded  \n0            1.0  \n1            1.0  \n2            1.0  \n3            1.0  \n4            1.0  \n...          ...  \n420024       1.0  \n420025       1.0  \n420026       1.0  \n420027       1.0  \n420028       1.0  \n\n[420029 rows x 20 columns]",
      "text/html": "<div>\n<style scoped>\n    .dataframe tbody tr th:only-of-type {\n        vertical-align: middle;\n    }\n\n    .dataframe tbody tr th {\n        vertical-align: top;\n    }\n\n    .dataframe thead th {\n        text-align: right;\n    }\n</style>\n<table border=\"1\" class=\"dataframe\">\n  <thead>\n    <tr style=\"text-align: right;\">\n      <th></th>\n      <th>payFrequency</th>\n      <th>apr</th>\n      <th>originated</th>\n      <th>nPaidOff</th>\n      <th>approved</th>\n      <th>loanStatus</th>\n      <th>loanAmount</th>\n      <th>originallyScheduledPaymentAmount</th>\n      <th>state</th>\n      <th>leadType</th>\n      <th>leadCost</th>\n      <th>Application_Year</th>\n      <th>Application_Month</th>\n      <th>installmentIndex</th>\n      <th>isCollection</th>\n      <th>principal</th>\n      <th>fees</th>\n      <th>paymentAmount</th>\n      <th>paymentStatus</th>\n      <th>isFunded</th>\n    </tr>\n  </thead>\n  <tbody>\n    <tr>\n      <th>0</th>\n      <td>0</td>\n      <td>199.0</td>\n      <td>1</td>\n      <td>0.0</td>\n      <td>1</td>\n      <td>1</td>\n      <td>3000.0</td>\n      <td>6395.19</td>\n      <td>4</td>\n      <td>3</td>\n      <td>0.0</td>\n      <td>2016</td>\n      <td>1</td>\n      <td>1.0</td>\n      <td>0</td>\n      <td>151.98</td>\n      <td>114.49</td>\n      <td>266.47</td>\n      <td>1</td>\n      <td>1.0</td>\n    </tr>\n    <tr>\n      <th>1</th>\n      <td>0</td>\n      <td>199.0</td>\n      <td>1</td>\n      <td>0.0</td>\n      <td>1</td>\n      <td>1</td>\n      <td>3000.0</td>\n      <td>6395.19</td>\n      <td>4</td>\n      <td>3</td>\n      <td>0.0</td>\n      <td>2016</td>\n      <td>1</td>\n      <td>2.0</td>\n      <td>0</td>\n      <td>49.08</td>\n      <td>217.39</td>\n      <td>266.47</td>\n      <td>1</td>\n      <td>1.0</td>\n    </tr>\n    <tr>\n      <th>2</th>\n      <td>0</td>\n      <td>199.0</td>\n      <td>1</td>\n      <td>0.0</td>\n      <td>1</td>\n      <td>1</td>\n      <td>3000.0</td>\n      <td>6395.19</td>\n      <td>4</td>\n      <td>3</td>\n      <td>0.0</td>\n      <td>2016</td>\n      <td>1</td>\n      <td>3.0</td>\n      <td>0</td>\n      <td>52.83</td>\n      <td>213.64</td>\n      <td>266.47</td>\n      <td>1</td>\n      <td>1.0</td>\n    </tr>\n    <tr>\n      <th>3</th>\n      <td>0</td>\n      <td>199.0</td>\n      <td>1</td>\n      <td>0.0</td>\n      <td>1</td>\n      <td>1</td>\n      <td>3000.0</td>\n      <td>6395.19</td>\n      <td>4</td>\n      <td>3</td>\n      <td>0.0</td>\n      <td>2016</td>\n      <td>1</td>\n      <td>4.0</td>\n      <td>0</td>\n      <td>56.86</td>\n      <td>209.61</td>\n      <td>266.47</td>\n      <td>1</td>\n      <td>1.0</td>\n    </tr>\n    <tr>\n      <th>4</th>\n      <td>0</td>\n      <td>199.0</td>\n      <td>1</td>\n      <td>0.0</td>\n      <td>1</td>\n      <td>1</td>\n      <td>3000.0</td>\n      <td>6395.19</td>\n      <td>4</td>\n      <td>3</td>\n      <td>0.0</td>\n      <td>2016</td>\n      <td>1</td>\n      <td>5.0</td>\n      <td>0</td>\n      <td>61.20</td>\n      <td>205.27</td>\n      <td>266.47</td>\n      <td>1</td>\n      <td>1.0</td>\n    </tr>\n    <tr>\n      <th>...</th>\n      <td>...</td>\n      <td>...</td>\n      <td>...</td>\n      <td>...</td>\n      <td>...</td>\n      <td>...</td>\n      <td>...</td>\n      <td>...</td>\n      <td>...</td>\n      <td>...</td>\n      <td>...</td>\n      <td>...</td>\n      <td>...</td>\n      <td>...</td>\n      <td>...</td>\n      <td>...</td>\n      <td>...</td>\n      <td>...</td>\n      <td>...</td>\n      <td>...</td>\n    </tr>\n    <tr>\n      <th>420024</th>\n      <td>1</td>\n      <td>590.0</td>\n      <td>1</td>\n      <td>0.0</td>\n      <td>1</td>\n      <td>0</td>\n      <td>400.0</td>\n      <td>1205.78</td>\n      <td>7</td>\n      <td>0</td>\n      <td>6.0</td>\n      <td>2015</td>\n      <td>11</td>\n      <td>5.0</td>\n      <td>0</td>\n      <td>6.33</td>\n      <td>43.00</td>\n      <td>49.33</td>\n      <td>1</td>\n      <td>1.0</td>\n    </tr>\n    <tr>\n      <th>420025</th>\n      <td>1</td>\n      <td>590.0</td>\n      <td>1</td>\n      <td>0.0</td>\n      <td>1</td>\n      <td>0</td>\n      <td>400.0</td>\n      <td>1205.78</td>\n      <td>7</td>\n      <td>0</td>\n      <td>6.0</td>\n      <td>2015</td>\n      <td>11</td>\n      <td>6.0</td>\n      <td>0</td>\n      <td>1.00</td>\n      <td>48.33</td>\n      <td>49.33</td>\n      <td>1</td>\n      <td>1.0</td>\n    </tr>\n    <tr>\n      <th>420026</th>\n      <td>1</td>\n      <td>590.0</td>\n      <td>1</td>\n      <td>0.0</td>\n      <td>1</td>\n      <td>0</td>\n      <td>400.0</td>\n      <td>1205.78</td>\n      <td>7</td>\n      <td>0</td>\n      <td>6.0</td>\n      <td>2015</td>\n      <td>11</td>\n      <td>7.0</td>\n      <td>0</td>\n      <td>7.17</td>\n      <td>42.17</td>\n      <td>49.34</td>\n      <td>1</td>\n      <td>1.0</td>\n    </tr>\n    <tr>\n      <th>420027</th>\n      <td>1</td>\n      <td>590.0</td>\n      <td>1</td>\n      <td>0.0</td>\n      <td>1</td>\n      <td>0</td>\n      <td>400.0</td>\n      <td>1205.78</td>\n      <td>7</td>\n      <td>0</td>\n      <td>6.0</td>\n      <td>2015</td>\n      <td>11</td>\n      <td>8.0</td>\n      <td>0</td>\n      <td>7.98</td>\n      <td>41.36</td>\n      <td>49.34</td>\n      <td>1</td>\n      <td>1.0</td>\n    </tr>\n    <tr>\n      <th>420028</th>\n      <td>1</td>\n      <td>590.0</td>\n      <td>1</td>\n      <td>0.0</td>\n      <td>1</td>\n      <td>0</td>\n      <td>400.0</td>\n      <td>1205.78</td>\n      <td>7</td>\n      <td>0</td>\n      <td>6.0</td>\n      <td>2015</td>\n      <td>11</td>\n      <td>9.0</td>\n      <td>0</td>\n      <td>8.87</td>\n      <td>40.46</td>\n      <td>49.33</td>\n      <td>1</td>\n      <td>1.0</td>\n    </tr>\n  </tbody>\n</table>\n<p>420029 rows × 20 columns</p>\n</div>"
     },
     "execution_count": 26,
     "metadata": {},
     "output_type": "execute_result"
    }
   ],
   "source": [
    "train_data=result[:420029]\n",
    "train_data"
   ],
   "metadata": {
    "collapsed": false,
    "pycharm": {
     "name": "#%%\n"
    }
   }
  },
  {
   "cell_type": "code",
   "execution_count": 27,
   "outputs": [
    {
     "data": {
      "text/plain": "        payFrequency    apr  originated  nPaidOff  approved  loanStatus  \\\n420029             1  590.0           1       0.0         1           0   \n420030             1  590.0           1       0.0         1           0   \n420031             1  590.0           1       0.0         1           0   \n420032             1  590.0           1       0.0         1           0   \n420033             1  590.0           1       0.0         1           0   \n...              ...    ...         ...       ...       ...         ...   \n525032             1  645.0           1       0.0         1           1   \n525033             1  645.0           1       0.0         1           1   \n525034             1  645.0           1       0.0         1           1   \n525035             1  645.0           1       0.0         1           1   \n525036             1  645.0           1       0.0         1           1   \n\n        loanAmount  originallyScheduledPaymentAmount  state  leadType  \\\n420029       400.0                           1205.78      7         0   \n420030       400.0                           1205.78      7         0   \n420031       400.0                           1205.78      7         0   \n420032       400.0                           1205.78      7         0   \n420033       400.0                           1205.78      7         0   \n...            ...                               ...    ...       ...   \n525032       300.0                           1034.38     17         1   \n525033       300.0                           1034.38     17         1   \n525034       300.0                           1034.38     17         1   \n525035       300.0                           1034.38     17         1   \n525036       300.0                           1034.38     17         1   \n\n        leadCost  Application_Year  Application_Month  installmentIndex  \\\n420029       6.0              2015                 11              10.0   \n420030       6.0              2015                 11              11.0   \n420031       6.0              2015                 11              12.0   \n420032       6.0              2015                 11              13.0   \n420033       6.0              2015                 11              14.0   \n...          ...               ...                ...               ...   \n525032       6.0              2016                 12              23.0   \n525033       6.0              2016                 12              24.0   \n525034       6.0              2016                 12              25.0   \n525035       6.0              2016                 12              26.0   \n525036       6.0              2016                 12              27.0   \n\n        isCollection  principal   fees  paymentAmount  paymentStatus  isFunded  \n420029             0       9.89  39.45          49.34              1       1.0  \n420030             0      11.00  38.33          49.33              1       1.0  \n420031             0      12.24  37.09          49.33              1       1.0  \n420032             0      13.64  35.70          49.34              1       1.0  \n420033             0      15.17  34.16          49.33              1       1.0  \n...              ...        ...    ...            ...            ...       ...  \n525032             0      21.85  17.38          39.23              0       1.0  \n525033             0      24.56  14.67          39.23              0       1.0  \n525034             0      27.59  11.64          39.23              0       1.0  \n525035             0      31.01   8.22          39.23              0       1.0  \n525036             0      35.46   4.39          39.85              0       1.0  \n\n[105008 rows x 20 columns]",
      "text/html": "<div>\n<style scoped>\n    .dataframe tbody tr th:only-of-type {\n        vertical-align: middle;\n    }\n\n    .dataframe tbody tr th {\n        vertical-align: top;\n    }\n\n    .dataframe thead th {\n        text-align: right;\n    }\n</style>\n<table border=\"1\" class=\"dataframe\">\n  <thead>\n    <tr style=\"text-align: right;\">\n      <th></th>\n      <th>payFrequency</th>\n      <th>apr</th>\n      <th>originated</th>\n      <th>nPaidOff</th>\n      <th>approved</th>\n      <th>loanStatus</th>\n      <th>loanAmount</th>\n      <th>originallyScheduledPaymentAmount</th>\n      <th>state</th>\n      <th>leadType</th>\n      <th>leadCost</th>\n      <th>Application_Year</th>\n      <th>Application_Month</th>\n      <th>installmentIndex</th>\n      <th>isCollection</th>\n      <th>principal</th>\n      <th>fees</th>\n      <th>paymentAmount</th>\n      <th>paymentStatus</th>\n      <th>isFunded</th>\n    </tr>\n  </thead>\n  <tbody>\n    <tr>\n      <th>420029</th>\n      <td>1</td>\n      <td>590.0</td>\n      <td>1</td>\n      <td>0.0</td>\n      <td>1</td>\n      <td>0</td>\n      <td>400.0</td>\n      <td>1205.78</td>\n      <td>7</td>\n      <td>0</td>\n      <td>6.0</td>\n      <td>2015</td>\n      <td>11</td>\n      <td>10.0</td>\n      <td>0</td>\n      <td>9.89</td>\n      <td>39.45</td>\n      <td>49.34</td>\n      <td>1</td>\n      <td>1.0</td>\n    </tr>\n    <tr>\n      <th>420030</th>\n      <td>1</td>\n      <td>590.0</td>\n      <td>1</td>\n      <td>0.0</td>\n      <td>1</td>\n      <td>0</td>\n      <td>400.0</td>\n      <td>1205.78</td>\n      <td>7</td>\n      <td>0</td>\n      <td>6.0</td>\n      <td>2015</td>\n      <td>11</td>\n      <td>11.0</td>\n      <td>0</td>\n      <td>11.00</td>\n      <td>38.33</td>\n      <td>49.33</td>\n      <td>1</td>\n      <td>1.0</td>\n    </tr>\n    <tr>\n      <th>420031</th>\n      <td>1</td>\n      <td>590.0</td>\n      <td>1</td>\n      <td>0.0</td>\n      <td>1</td>\n      <td>0</td>\n      <td>400.0</td>\n      <td>1205.78</td>\n      <td>7</td>\n      <td>0</td>\n      <td>6.0</td>\n      <td>2015</td>\n      <td>11</td>\n      <td>12.0</td>\n      <td>0</td>\n      <td>12.24</td>\n      <td>37.09</td>\n      <td>49.33</td>\n      <td>1</td>\n      <td>1.0</td>\n    </tr>\n    <tr>\n      <th>420032</th>\n      <td>1</td>\n      <td>590.0</td>\n      <td>1</td>\n      <td>0.0</td>\n      <td>1</td>\n      <td>0</td>\n      <td>400.0</td>\n      <td>1205.78</td>\n      <td>7</td>\n      <td>0</td>\n      <td>6.0</td>\n      <td>2015</td>\n      <td>11</td>\n      <td>13.0</td>\n      <td>0</td>\n      <td>13.64</td>\n      <td>35.70</td>\n      <td>49.34</td>\n      <td>1</td>\n      <td>1.0</td>\n    </tr>\n    <tr>\n      <th>420033</th>\n      <td>1</td>\n      <td>590.0</td>\n      <td>1</td>\n      <td>0.0</td>\n      <td>1</td>\n      <td>0</td>\n      <td>400.0</td>\n      <td>1205.78</td>\n      <td>7</td>\n      <td>0</td>\n      <td>6.0</td>\n      <td>2015</td>\n      <td>11</td>\n      <td>14.0</td>\n      <td>0</td>\n      <td>15.17</td>\n      <td>34.16</td>\n      <td>49.33</td>\n      <td>1</td>\n      <td>1.0</td>\n    </tr>\n    <tr>\n      <th>...</th>\n      <td>...</td>\n      <td>...</td>\n      <td>...</td>\n      <td>...</td>\n      <td>...</td>\n      <td>...</td>\n      <td>...</td>\n      <td>...</td>\n      <td>...</td>\n      <td>...</td>\n      <td>...</td>\n      <td>...</td>\n      <td>...</td>\n      <td>...</td>\n      <td>...</td>\n      <td>...</td>\n      <td>...</td>\n      <td>...</td>\n      <td>...</td>\n      <td>...</td>\n    </tr>\n    <tr>\n      <th>525032</th>\n      <td>1</td>\n      <td>645.0</td>\n      <td>1</td>\n      <td>0.0</td>\n      <td>1</td>\n      <td>1</td>\n      <td>300.0</td>\n      <td>1034.38</td>\n      <td>17</td>\n      <td>1</td>\n      <td>6.0</td>\n      <td>2016</td>\n      <td>12</td>\n      <td>23.0</td>\n      <td>0</td>\n      <td>21.85</td>\n      <td>17.38</td>\n      <td>39.23</td>\n      <td>0</td>\n      <td>1.0</td>\n    </tr>\n    <tr>\n      <th>525033</th>\n      <td>1</td>\n      <td>645.0</td>\n      <td>1</td>\n      <td>0.0</td>\n      <td>1</td>\n      <td>1</td>\n      <td>300.0</td>\n      <td>1034.38</td>\n      <td>17</td>\n      <td>1</td>\n      <td>6.0</td>\n      <td>2016</td>\n      <td>12</td>\n      <td>24.0</td>\n      <td>0</td>\n      <td>24.56</td>\n      <td>14.67</td>\n      <td>39.23</td>\n      <td>0</td>\n      <td>1.0</td>\n    </tr>\n    <tr>\n      <th>525034</th>\n      <td>1</td>\n      <td>645.0</td>\n      <td>1</td>\n      <td>0.0</td>\n      <td>1</td>\n      <td>1</td>\n      <td>300.0</td>\n      <td>1034.38</td>\n      <td>17</td>\n      <td>1</td>\n      <td>6.0</td>\n      <td>2016</td>\n      <td>12</td>\n      <td>25.0</td>\n      <td>0</td>\n      <td>27.59</td>\n      <td>11.64</td>\n      <td>39.23</td>\n      <td>0</td>\n      <td>1.0</td>\n    </tr>\n    <tr>\n      <th>525035</th>\n      <td>1</td>\n      <td>645.0</td>\n      <td>1</td>\n      <td>0.0</td>\n      <td>1</td>\n      <td>1</td>\n      <td>300.0</td>\n      <td>1034.38</td>\n      <td>17</td>\n      <td>1</td>\n      <td>6.0</td>\n      <td>2016</td>\n      <td>12</td>\n      <td>26.0</td>\n      <td>0</td>\n      <td>31.01</td>\n      <td>8.22</td>\n      <td>39.23</td>\n      <td>0</td>\n      <td>1.0</td>\n    </tr>\n    <tr>\n      <th>525036</th>\n      <td>1</td>\n      <td>645.0</td>\n      <td>1</td>\n      <td>0.0</td>\n      <td>1</td>\n      <td>1</td>\n      <td>300.0</td>\n      <td>1034.38</td>\n      <td>17</td>\n      <td>1</td>\n      <td>6.0</td>\n      <td>2016</td>\n      <td>12</td>\n      <td>27.0</td>\n      <td>0</td>\n      <td>35.46</td>\n      <td>4.39</td>\n      <td>39.85</td>\n      <td>0</td>\n      <td>1.0</td>\n    </tr>\n  </tbody>\n</table>\n<p>105008 rows × 20 columns</p>\n</div>"
     },
     "execution_count": 27,
     "metadata": {},
     "output_type": "execute_result"
    }
   ],
   "source": [
    "test_data=result[420029:]\n",
    "test_data"
   ],
   "metadata": {
    "collapsed": false,
    "pycharm": {
     "name": "#%%\n"
    }
   }
  },
  {
   "cell_type": "code",
   "execution_count": 28,
   "outputs": [],
   "source": [
    "X = train_data.drop('isFunded',axis=1)\n",
    "y = train_data[['isFunded']]"
   ],
   "metadata": {
    "collapsed": false,
    "pycharm": {
     "name": "#%%\n"
    }
   }
  },
  {
   "cell_type": "code",
   "execution_count": 29,
   "outputs": [],
   "source": [
    "X_train,X_test,y_train,y_test = train_test_split(X,y,test_size=0.20,random_state=123)"
   ],
   "metadata": {
    "collapsed": false,
    "pycharm": {
     "name": "#%%\n"
    }
   }
  },
  {
   "cell_type": "code",
   "execution_count": 30,
   "outputs": [],
   "source": [
    "num_folds = 10\n",
    "seed = 7\n",
    "kfold = KFold(n_splits=num_folds, shuffle=True, random_state=seed)\n",
    "results = cross_val_score(dt_model1, X_train, y_train, cv=kfold)"
   ],
   "metadata": {
    "collapsed": false,
    "pycharm": {
     "name": "#%%\n"
    }
   }
  },
  {
   "cell_type": "code",
   "execution_count": 31,
   "outputs": [
    {
     "data": {
      "text/plain": "array([0.9439931 , 0.94330863, 0.9438443 , 0.94455687, 0.94434855,\n       0.94283078, 0.94232486, 0.94271174, 0.94539016, 0.94628296])"
     },
     "execution_count": 31,
     "metadata": {},
     "output_type": "execute_result"
    }
   ],
   "source": [
    "results"
   ],
   "metadata": {
    "collapsed": false,
    "pycharm": {
     "name": "#%%\n"
    }
   }
  },
  {
   "cell_type": "code",
   "execution_count": null,
   "outputs": [],
   "source": [],
   "metadata": {
    "collapsed": false,
    "pycharm": {
     "name": "#%%\n"
    }
   }
  }
 ],
 "metadata": {
  "kernelspec": {
   "display_name": "Python 3",
   "language": "python",
   "name": "python3"
  },
  "language_info": {
   "codemirror_mode": {
    "name": "ipython",
    "version": 2
   },
   "file_extension": ".py",
   "mimetype": "text/x-python",
   "name": "python",
   "nbconvert_exporter": "python",
   "pygments_lexer": "ipython2",
   "version": "2.7.6"
  }
 },
 "nbformat": 4,
 "nbformat_minor": 0
}